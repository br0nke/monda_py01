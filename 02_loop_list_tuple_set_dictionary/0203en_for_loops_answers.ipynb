{
 "cells": [
  {
   "cell_type": "markdown",
   "metadata": {},
   "source": [
    "#### Quick Assignement 1"
   ]
  },
  {
   "cell_type": "code",
   "execution_count": null,
   "metadata": {},
   "outputs": [],
   "source": [
    "week = ['monday', 'tuesday', 'wednesday', 'thursday', 'friday', 'saturday', 'sunday']\n",
    "\n",
    "for day in week:\n",
    "     print(day)\n",
    "     "
   ]
  },
  {
   "cell_type": "markdown",
   "metadata": {},
   "source": [
    "#### Quick Assignement 2"
   ]
  },
  {
   "cell_type": "code",
   "execution_count": null,
   "metadata": {},
   "outputs": [],
   "source": [
    "words = []\n",
    "\n",
    "for word in range(5):\n",
    "     words.append(input('Enter the word: '))\n",
    "\n",
    "for number, word in enumerate(words):\n",
    "     print(f'{number + 1}: {word}, number of characters: {len(word)}')\n",
    "print('Number of words:', len(words))\n"
   ]
  },
  {
   "cell_type": "markdown",
   "metadata": {},
   "source": [
    "#### Quick Assignement 3"
   ]
  },
  {
   "cell_type": "code",
   "execution_count": null,
   "metadata": {},
   "outputs": [],
   "source": [
    "year = int(input('Enter year: '))\n",
    "if (year % 400 == 0) or (year % 100 != 0 and year % 4 == 0):\n",
    "     print('Leap Year')\n",
    "else:\n",
    "     print('Not Leap Year')"
   ]
  },
  {
   "cell_type": "markdown",
   "metadata": {},
   "source": [
    "#### Quick Assignement 4"
   ]
  },
  {
   "cell_type": "code",
   "execution_count": null,
   "metadata": {},
   "outputs": [],
   "source": [
    "student_grades = {\n",
    "    'Alice': {'Math': 85, 'Science': 92, 'History': 88},\n",
    "    'Bob': {'Math': 78, 'Science': 85, 'History': 90},\n",
    "    'Charlie': {'Math': 92, 'Science': 88, 'History': 76}\n",
    "}\n",
    "\n",
    "for student, grades in student_grades.items():\n",
    "    print(f\"{student}'s Grades:\")\n",
    "    for subject, grade in grades.items():\n",
    "        print(f\"{subject}: {grade}\")\n",
    "    print()"
   ]
  },
  {
   "cell_type": "markdown",
   "metadata": {},
   "source": []
  }
 ],
 "metadata": {
  "kernelspec": {
   "display_name": "venv",
   "language": "python",
   "name": "python3"
  },
  "language_info": {
   "codemirror_mode": {
    "name": "ipython",
    "version": 3
   },
   "file_extension": ".py",
   "mimetype": "text/x-python",
   "name": "python",
   "nbconvert_exporter": "python",
   "pygments_lexer": "ipython3",
   "version": "3.12.1"
  },
  "orig_nbformat": 4
 },
 "nbformat": 4,
 "nbformat_minor": 2
}
