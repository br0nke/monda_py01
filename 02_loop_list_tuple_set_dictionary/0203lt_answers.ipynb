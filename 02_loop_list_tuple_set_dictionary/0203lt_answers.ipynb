{
 "cells": [
  {
   "cell_type": "code",
   "execution_count": null,
   "metadata": {},
   "outputs": [],
   "source": [
    "# QA 1\n",
    "\n",
    "vaisiu_sarasas = ['obuoliai', 'bananai', 'vyšnios', 'apelsinai', 'kokosai']\n",
    "for vaisius in vaisiu_sarasas:\n",
    "    print(vaisius)"
   ]
  },
  {
   "cell_type": "code",
   "execution_count": null,
   "metadata": {},
   "outputs": [],
   "source": [
    "# QA 2\n",
    "\n",
    "vaisiai = {\n",
    "    'bananai': 6,\n",
    "    'apelsinai': 7,\n",
    "    'persikai': 42,\n",
    "    'obuoliai': 11,\n",
    "    'kokosai': 2.5,\n",
    "    'vyšnios': 177\n",
    "}\n",
    "for vaisius in vaisiai:\n",
    "    print(vaisius)"
   ]
  },
  {
   "cell_type": "code",
   "execution_count": null,
   "metadata": {},
   "outputs": [],
   "source": [
    "# QA 3\n",
    "\n",
    "suma = 0\n",
    "for vaisius in vaisiai:\n",
    "    suma += vaisiai[vaisius]\n",
    "print(suma)"
   ]
  },
  {
   "cell_type": "code",
   "execution_count": null,
   "metadata": {},
   "outputs": [],
   "source": [
    "# QA 4\n",
    "\n",
    "for vaisius, kiekis in vaisiai.items():\n",
    "    print(f\"{vaisius:20} {kiekis:>10g}\")"
   ]
  },
  {
   "cell_type": "code",
   "execution_count": null,
   "metadata": {},
   "outputs": [],
   "source": [
    "# QA 5\n",
    "\n",
    "for vaisius in vaisiai.keys():\n",
    "    vaisiai[vaisius] -= 10\n",
    "    if vaisiai[vaisius] < 0:\n",
    "        vaisiai[vaisius] = abs(vaisiai[vaisius])\n",
    "print(vaisiai)"
   ]
  },
  {
   "cell_type": "code",
   "execution_count": null,
   "metadata": {},
   "outputs": [],
   "source": [
    "# QA 6\n",
    "\n",
    "for step in range(10, 0, -1):\n",
    "    print(step)"
   ]
  },
  {
   "cell_type": "code",
   "execution_count": null,
   "metadata": {},
   "outputs": [],
   "source": [
    "# QA 7\n",
    "\n",
    "for vaisius in vaisiai:\n",
    "    if vaisius == 'obuoliai':\n",
    "        print(vaisius, vaisiai[vaisius])\n",
    "        break\n",
    "    print(vaisius)"
   ]
  },
  {
   "cell_type": "code",
   "execution_count": null,
   "metadata": {},
   "outputs": [],
   "source": [
    "# QA 8\n",
    "\n",
    "for vaisius, kiekis in vaisiai.items():\n",
    "    if kiekis <= 10:\n",
    "        continue\n",
    "    print(f\"{vaisius:10} {kiekis:>10g}\")"
   ]
  },
  {
   "cell_type": "code",
   "execution_count": null,
   "metadata": {},
   "outputs": [],
   "source": [
    "# QA 9\n",
    "# run QA 2 to reset data\n",
    "\n",
    "for vaisius, kiekis in vaisiai.items():\n",
    "    if not type(kiekis) in (int, float) or kiekis < 0:\n",
    "        print(f\"{vaisius} vaisiaus kiekis \\\"{kiekis}\\\" yra blogas\")\n",
    "        break\n",
    "else:\n",
    "    print(\"visi vaisių kiekiai tvarkingi\")\n"
   ]
  },
  {
   "cell_type": "code",
   "execution_count": null,
   "metadata": {},
   "outputs": [],
   "source": [
    "# test case 1: negative\n",
    "vaisiai['antimaterinis'] = -7"
   ]
  },
  {
   "cell_type": "code",
   "execution_count": null,
   "metadata": {},
   "outputs": [],
   "source": [
    "# test case 2: not a number\n",
    "vaisiai['slyvos'] = 'supuvusios'"
   ]
  },
  {
   "cell_type": "code",
   "execution_count": null,
   "metadata": {},
   "outputs": [],
   "source": [
    "# QA 10\n",
    "\n",
    "knygos = [\n",
    "    '\"Homo Deus: A Brief History of Tomorrow\" by: Yuval Noah Harari',\n",
    "    '\"Children of Time\" by: Adrian Tchaikovsky',\n",
    "    '\"We Are Legion (We Are Bob): Bobiverse, Book 1\" by: Dennis E. Taylor',\n",
    "    '\"Guns, Germs and Steel: The Fate of Human Societies\" by: Jared Diamond',\n",
    "]\n",
    "for eile, knyga in enumerate(knygos):\n",
    "    print(eile, knyga)\n"
   ]
  },
  {
   "cell_type": "code",
   "execution_count": null,
   "metadata": {},
   "outputs": [],
   "source": [
    "# QA 11\n",
    "\n",
    "mokinio_pazymiai = {\n",
    "    'Alicija': {'Matematika': 85, 'Mokslas': 92, 'Istorija': 88},\n",
    "    'Bobas': {'Matematika': 78, 'Mokslas': 85, 'Istorija': 90},\n",
    "    'Charlis': {'Matematika': 92, 'Mokslas': 88, 'Istorija': 76}\n",
    "}\n",
    "\n",
    "for mokinys, dalykai in mokinio_pazymiai.items():\n",
    "    print(mokinys)\n",
    "    for dalykas, pazymys in dalykai.items():\n",
    "        print('-', dalykas, pazymys)"
   ]
  },
  {
   "cell_type": "code",
   "execution_count": null,
   "metadata": {},
   "outputs": [],
   "source": [
    "# A1\n",
    "\n",
    "zodziai = []\n",
    "for kelintas in range(1, 6):\n",
    "    zodis = input(f'Įveskite {kelintas} žodį: ')\n",
    "    zodziai.append(zodis)\n",
    "for eile, zodis in enumerate(zodziai):\n",
    "    print(f'{eile+1} {len(zodis):>5} {zodis}')"
   ]
  },
  {
   "cell_type": "code",
   "execution_count": null,
   "metadata": {},
   "outputs": [],
   "source": [
    "# A2\n",
    "\n",
    "visi_metai = range(1900, 2101)\n",
    "for metai in visi_metai:\n",
    "    if metai % 4 == 0 and metai % 100 != 0 or metai % 400 == 0:\n",
    "        print(metai)\n"
   ]
  }
 ],
 "metadata": {
  "kernelspec": {
   "display_name": "venv",
   "language": "python",
   "name": "python3"
  },
  "language_info": {
   "codemirror_mode": {
    "name": "ipython",
    "version": 3
   },
   "file_extension": ".py",
   "mimetype": "text/x-python",
   "name": "python",
   "nbconvert_exporter": "python",
   "pygments_lexer": "ipython3",
   "version": "3.11.7"
  }
 },
 "nbformat": 4,
 "nbformat_minor": 2
}
