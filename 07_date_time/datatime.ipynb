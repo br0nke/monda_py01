{
 "cells": [
  {
   "cell_type": "code",
   "execution_count": null,
   "metadata": {},
   "outputs": [],
   "source": [
    "from datetime import datetime\n",
    "\n",
    "# Gaukite dabartinį laiką kaip datetime objektą\n",
    "dabar = datetime.now()\n",
    "\n",
    "print(dabar)  # Išves: dabartinį laiką"
   ]
  },
  {
   "cell_type": "code",
   "execution_count": null,
   "metadata": {},
   "outputs": [],
   "source": [
    "from datetime import datetime\n",
    "\n",
    "date_object = datetime(2023, 4, 12, 18, 30, 0)\n",
    "format_string = \"%Y-%m-%d %H:%M:%S\"\n",
    "\n",
    "date_string = date_object.strftime(format_string)\n",
    "print(date_string)"
   ]
  },
  {
   "cell_type": "code",
   "execution_count": null,
   "metadata": {},
   "outputs": [],
   "source": [
    "#1\n",
    "from datetime import datetime\n",
    "\n",
    "dabar = datetime.now()\n",
    "format_string = \"%M:%S\"\n",
    "\n",
    "dabar_pilnas = dabar.strftime(format_string)\n",
    "print(dabar_pilnas)"
   ]
  },
  {
   "cell_type": "code",
   "execution_count": null,
   "metadata": {},
   "outputs": [],
   "source": [
    "#2\n",
    "from datetime import datetime, date, timedelta\n",
    "\n",
    "def kada_gimtadeinis(gimtadienis):\n",
    "    gimtadienis_formed = datetime.strptime(gimtadienis, \"%Y-%m-%d\")\n",
    "    today = datetime.now()\n",
    "    gimtadienio_data = gimtadienis_formed.replace(year=today.year)\n",
    "\n",
    "    if gimtadienio_data < today:\n",
    "        gimtadienio_data = gimtadienio_data.replace(year=today.year + 1)\n",
    "    \n",
    "    skirtumas = gimtadienio_data - today\n",
    "    return skirtumas.days\n",
    "\n",
    "gimtadienis = \"1993-03-29\"\n",
    "print(f'Liko {kada_gimtadeinis(gimtadienis)} dienos(-u) iki gimtadienio!')"
   ]
  },
  {
   "cell_type": "code",
   "execution_count": null,
   "metadata": {},
   "outputs": [],
   "source": [
    "#3\n",
    "from datetime import datetime, date, timedelta\n",
    "\n",
    "def po_ryt(siandiena):\n",
    "    date_formed = datetime.strptime(siandiena, \"%Y-%m-%d %H:%M\")\n",
    "    pridedam = date_formed + timedelta(hours=48)\n",
    "    return pridedam\n",
    "\n",
    "siandiena = \"2023-01-16 8:30\"\n",
    "print(f'po 48h bus: {po_ryt(siandiena)}')"
   ]
  },
  {
   "cell_type": "code",
   "execution_count": null,
   "metadata": {},
   "outputs": [],
   "source": [
    "#4\n",
    "from datetime import datetime\n",
    "\n",
    "def skirtumas_dienomis(timestamp1, timestamp2):\n",
    "    date_object1 = datetime.fromtimestamp(timestamp1)\n",
    "    date_object2 = datetime.fromtimestamp(timestamp2)\n",
    "    skirtumas = abs(date_object2 - date_object1)\n",
    "    return skirtumas.days\n",
    "\n",
    "timestamp1 = 1693726712\n",
    "timestamp2 = 1674234000\n",
    "print(f\"Laikotarpių skirtumas dienomis: {skirtumas_dienomis(timestamp1, timestamp2)}\")"
   ]
  },
  {
   "cell_type": "code",
   "execution_count": null,
   "metadata": {},
   "outputs": [],
   "source": [
    "#5\n",
    "from datetime import datetime\n",
    "\n",
    "def kokia_diena(data):\n",
    "    formated_string = \"%Y-%m-%d\"\n",
    "    datos_objektas = datetime.strptime(data, formated_string)\n",
    "    days = [\"Monday\", \"Tuesday\", \"Wednesday\", \"Thursday\", \"Friday\", \"Saturday\", \"Sunday\"]\n",
    "    return days[datos_objektas.weekday()]\n",
    "\n",
    "data = \"2023-03-22\"\n",
    "print(f'si data yra {kokia_diena(data)}')"
   ]
  },
  {
   "cell_type": "code",
   "execution_count": null,
   "metadata": {},
   "outputs": [],
   "source": [
    "#1 Timezones\n",
    "from zoneinfo import available_timezones\n",
    "\n",
    "murica_zonos = []\n",
    "\n",
    "for tz in available_timezones():\n",
    "    if \"America\" in tz:\n",
    "        murica_zonos.append(tz)\n",
    "\n",
    "for time_zone in murica_zonos:\n",
    "    print(time_zone)"
   ]
  },
  {
   "cell_type": "code",
   "execution_count": 32,
   "metadata": {},
   "outputs": [
    {
     "name": "stdout",
     "output_type": "stream",
     "text": [
      "Your time: 11:45:00, Europe/Dublin\n",
      "Sydney time: 22:10:21, Australia/Sydney\n",
      "Dubai Time: 15:51:33, Asia/Dubai\n",
      "Vilnius time: 13:34:21, Europe/Vilnius\n",
      "London Time: 12:10:21, Europe/London\n",
      "New York Time: 07:10:21, America/New York\n",
      "Los Angeles Time: 04:10:21, America/ Los Angeles\n"
     ]
    }
   ],
   "source": [
    "#2\n",
    "from zoneinfo import ZoneInfo\n",
    "from datetime import datetime\n",
    "\n",
    "input_time = input(\"Enter time format in HH:MM(:SS) second are not mandatory\")\n",
    "format = \"%H:%M\"\n",
    "user_time_zone = input(\"Enter your time zone eg:\\\"America/Chichuachua\\\"\")\n",
    "\n",
    "if len(input_time) > 5:\n",
    "    format = \"%H:%M:%S\"\n",
    "time = datetime.strptime(input_time, format)\n",
    "\n",
    "sydney = time.replace(tzinfo=ZoneInfo(user_time_zone)).astimezone(ZoneInfo(\"Australia/Sydney\"))\n",
    "dubai = time.replace(tzinfo=ZoneInfo(user_time_zone)).astimezone(ZoneInfo(\"Asia/Dubai\"))\n",
    "vilnius = time.replace(tzinfo=ZoneInfo(user_time_zone)).astimezone(ZoneInfo(\"Europe/Vilnius\"))\n",
    "london = time.replace(tzinfo=ZoneInfo(user_time_zone)).astimezone(ZoneInfo(\"Europe/London\"))\n",
    "new_york = time.replace(tzinfo=ZoneInfo(user_time_zone)).astimezone(ZoneInfo(\"America/New_York\"))\n",
    "los_angeles = time.replace(tzinfo=ZoneInfo(user_time_zone)).astimezone(ZoneInfo(\"America/Los_Angeles\"))\n",
    "\n",
    "print(f\"\"\"Your time: {time.time()}, {user_time_zone}\n",
    "Sydney time: {sydney.time()}, Australia/Sydney\n",
    "Dubai Time: {dubai.time()}, Asia/Dubai\n",
    "Vilnius time: {vilnius.time()}, Europe/Vilnius\n",
    "London Time: {london.time()}, Europe/London\n",
    "New York Time: {new_york.time()}, America/New York\n",
    "Los Angeles Time: {los_angeles.time()}, America/ Los Angeles\"\"\")"
   ]
  }
 ],
 "metadata": {
  "kernelspec": {
   "display_name": "venv",
   "language": "python",
   "name": "python3"
  },
  "language_info": {
   "codemirror_mode": {
    "name": "ipython",
    "version": 3
   },
   "file_extension": ".py",
   "mimetype": "text/x-python",
   "name": "python",
   "nbconvert_exporter": "python",
   "pygments_lexer": "ipython3",
   "version": "3.12.1"
  }
 },
 "nbformat": 4,
 "nbformat_minor": 2
}
