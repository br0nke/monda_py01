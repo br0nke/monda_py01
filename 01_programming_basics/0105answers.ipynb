{
 "cells": [
  {
   "cell_type": "code",
   "execution_count": 1,
   "metadata": {},
   "outputs": [
    {
     "name": "stdout",
     "output_type": "stream",
     "text": [
      "You're too old for this.\n"
     ]
    }
   ],
   "source": [
    "# QA 1\n",
    "age = 71\n",
    "if age < 18:\n",
    "    print(\"You're too young for this.\")\n",
    "elif age >= 18 and age <= 65:\n",
    "    print(\"You're eligible.\")\n",
    "else:\n",
    "    print(\"You're too old for this.\")"
   ]
  },
  {
   "cell_type": "code",
   "execution_count": 3,
   "metadata": {},
   "outputs": [
    {
     "name": "stdout",
     "output_type": "stream",
     "text": [
      "You're eligible.\n"
     ]
    }
   ],
   "source": [
    "# QA 1\n",
    "age = 42\n",
    "if age < 18:\n",
    "    print(\"You're too young for this.\")\n",
    "elif age >= 18 and age <= 65:\n",
    "    print(\"You're eligible.\")\n",
    "else:\n",
    "    print(\"You're too old for this.\")"
   ]
  },
  {
   "cell_type": "code",
   "execution_count": 4,
   "metadata": {},
   "outputs": [
    {
     "name": "stdout",
     "output_type": "stream",
     "text": [
      "You're too young for this.\n"
     ]
    }
   ],
   "source": [
    "# QA 1\n",
    "age = 17\n",
    "if age < 18:\n",
    "    print(\"You're too young for this.\")\n",
    "elif age >= 18 and age <= 65:\n",
    "    print(\"You're eligible.\")\n",
    "else:\n",
    "    print(\"You're too old for this.\")"
   ]
  },
  {
   "cell_type": "code",
   "execution_count": 14,
   "metadata": {},
   "outputs": [
    {
     "name": "stdout",
     "output_type": "stream",
     "text": [
      "numbers are equal\n"
     ]
    }
   ],
   "source": [
    "# QA 2\n",
    "number1 = 5\n",
    "number2 = 5\n",
    "if number1 == number2:\n",
    "    print('numbers are equal')\n",
    "else:\n",
    "    print('numbers are not equal')"
   ]
  },
  {
   "cell_type": "code",
   "execution_count": 13,
   "metadata": {},
   "outputs": [
    {
     "name": "stdout",
     "output_type": "stream",
     "text": [
      "numbers are not equal\n"
     ]
    }
   ],
   "source": [
    "# QA 2\n",
    "number1 = 8\n",
    "number2 = 5\n",
    "if number1 == number2:\n",
    "    print('numbers are equal')\n",
    "else:\n",
    "    print('numbers are not equal')"
   ]
  },
  {
   "cell_type": "code",
   "execution_count": 16,
   "metadata": {},
   "outputs": [
    {
     "name": "stdout",
     "output_type": "stream",
     "text": [
      "8 is even\n"
     ]
    }
   ],
   "source": [
    "# QA 3\n",
    "number1 = 8\n",
    "if number1 % 2 == 0:\n",
    "    print(number1, 'is even')\n",
    "else:\n",
    "    print(number1, 'is odd')"
   ]
  },
  {
   "cell_type": "code",
   "execution_count": 18,
   "metadata": {},
   "outputs": [
    {
     "name": "stdout",
     "output_type": "stream",
     "text": [
      "-7 is negative\n"
     ]
    }
   ],
   "source": [
    "# QA 4\n",
    "number1 = -7\n",
    "is_positive = number1 > 0\n",
    "if is_positive:\n",
    "    print(number1, 'is positive')\n",
    "elif number1 == 0:\n",
    "    print(number1, 'is zero')\n",
    "else:\n",
    "    print(number1, 'is negative')"
   ]
  },
  {
   "cell_type": "code",
   "execution_count": 22,
   "metadata": {},
   "outputs": [
    {
     "name": "stdout",
     "output_type": "stream",
     "text": [
      "mixed\n"
     ]
    }
   ],
   "source": [
    "# QA 5\n",
    "number1 = 2\n",
    "number2 = 7\n",
    "if number1 % 2 == 0 and number2 % 2 == 0:\n",
    "    print('both even')\n",
    "elif number1 % 2 == 0 or number2 % 2 == 0:\n",
    "    print('mixed')\n",
    "else:\n",
    "    print('both odd')"
   ]
  },
  {
   "cell_type": "code",
   "execution_count": 15,
   "metadata": {},
   "outputs": [
    {
     "name": "stdout",
     "output_type": "stream",
     "text": [
      "bent vienas lyginis\n"
     ]
    }
   ],
   "source": [
    "pirmas = 12\n",
    "antras = -7\n",
    "abu_lyginiai = pirmas % 2 == 0 and antras % 2 == 0\n",
    "misrus_lyginiai = pirmas % 2 == 0 or antras % 2 == 0\n",
    "if abu_lyginiai:\n",
    "    print(\"abu lyginiai\")\n",
    "elif misrus_lyginiai:\n",
    "    print(\"bent vienas lyginis\")\n",
    "else:\n",
    "    print(\"abu nelyginiai\")"
   ]
  },
  {
   "cell_type": "code",
   "execution_count": 24,
   "metadata": {},
   "outputs": [
    {
     "name": "stdout",
     "output_type": "stream",
     "text": [
      "airlock safe: True\n",
      "airlock safe: False\n"
     ]
    }
   ],
   "source": [
    "# QA 6\n",
    "\n",
    "door_1_open = True\n",
    "door_2_open = False\n",
    "airlock_safe = door_1_open ^ door_2_open\n",
    "print('airlock safe:', airlock_safe)\n",
    "\n",
    "door_1_open = True\n",
    "door_2_open = True\n",
    "airlock_safe = door_1_open ^ door_2_open\n",
    "print('airlock safe:', airlock_safe)"
   ]
  },
  {
   "cell_type": "code",
   "execution_count": 3,
   "metadata": {},
   "outputs": [
    {
     "name": "stdout",
     "output_type": "stream",
     "text": [
      "17 is between 30 and 10\n"
     ]
    }
   ],
   "source": [
    "# QA 7\n",
    "first = 17\n",
    "second = 30\n",
    "third = 10\n",
    "if second < first < third or second > first > third:\n",
    "    print(first, 'is between', second, 'and', third)\n",
    "else:\n",
    "    print(first, 'is NOT between', second, 'and', third)"
   ]
  },
  {
   "cell_type": "code",
   "execution_count": 14,
   "metadata": {},
   "outputs": [
    {
     "name": "stdout",
     "output_type": "stream",
     "text": [
      "is leap\n"
     ]
    }
   ],
   "source": [
    "# QA 8\n",
    "year = 2000\n",
    "if year % 4 == 0 and year % 100 != 0 or year % 400 == 0:\n",
    "    print('is leap')\n",
    "else:\n",
    "    print('is not leap')"
   ]
  },
  {
   "cell_type": "code",
   "execution_count": 13,
   "metadata": {},
   "outputs": [
    {
     "name": "stdout",
     "output_type": "stream",
     "text": [
      "is leap\n"
     ]
    }
   ],
   "source": [
    "# QA 9\n",
    "year = 2000\n",
    "if year % 4 == 0:\n",
    "    if year % 100 == 0:\n",
    "        if year % 400 == 0:\n",
    "            print('is leap')\n",
    "        else:\n",
    "            print('is NOT leap')\n",
    "    else:\n",
    "        print('is leap')\n",
    "else:\n",
    "    print('is NOT leap')"
   ]
  },
  {
   "cell_type": "markdown",
   "metadata": {},
   "source": [
    "# "
   ]
  }
 ],
 "metadata": {
  "kernelspec": {
   "display_name": "venv",
   "language": "python",
   "name": "python3"
  },
  "language_info": {
   "codemirror_mode": {
    "name": "ipython",
    "version": 3
   },
   "file_extension": ".py",
   "mimetype": "text/x-python",
   "name": "python",
   "nbconvert_exporter": "python",
   "pygments_lexer": "ipython3",
   "version": "3.11.7"
  },
  "orig_nbformat": 4
 },
 "nbformat": 4,
 "nbformat_minor": 2
}
