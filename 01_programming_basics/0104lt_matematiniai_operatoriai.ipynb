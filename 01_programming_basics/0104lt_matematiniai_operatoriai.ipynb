{
 "cells": [
  {
   "cell_type": "markdown",
   "metadata": {},
   "source": [
    "# Matematiniai operatoriai"
   ]
  },
  {
   "cell_type": "markdown",
   "metadata": {},
   "source": [
    "Python kalboje, galima atlikti matematinius veiksmus, tokius kaip, sudėtį, atimtį, daugybą, dalybą, ir kitus. Panagrinėkime matematinius operatorius pythone.\n",
    "\n",
    "---"
   ]
  },
  {
   "cell_type": "markdown",
   "metadata": {},
   "source": [
    "## Sudėtis `+`\n",
    "\n",
    "Sudėties operatorius leidžia sudėti kelis ar daugiau skaičius."
   ]
  },
  {
   "cell_type": "code",
   "execution_count": 1,
   "metadata": {},
   "outputs": [
    {
     "name": "stdout",
     "output_type": "stream",
     "text": [
      "8\n"
     ]
    }
   ],
   "source": [
    "rezultatas = 5 + 3\n",
    "print(rezultatas)"
   ]
  },
  {
   "cell_type": "code",
   "execution_count": 2,
   "metadata": {},
   "outputs": [
    {
     "name": "stdout",
     "output_type": "stream",
     "text": [
      "42\n"
     ]
    }
   ],
   "source": [
    "rezultatas = 7 + 9 + 11 + 8 + 7\n",
    "print(rezultatas)"
   ]
  },
  {
   "cell_type": "markdown",
   "metadata": {},
   "source": [
    "### Greita užduotis 1:\n",
    "Sudėkite kelis skaičius ir išveskite rezultatą"
   ]
  },
  {
   "cell_type": "code",
   "execution_count": 1,
   "metadata": {},
   "outputs": [
    {
     "name": "stdout",
     "output_type": "stream",
     "text": [
      "30\n"
     ]
    }
   ],
   "source": [
    "rez = 9 + 18 + 3\n",
    "print(rez)"
   ]
  },
  {
   "cell_type": "markdown",
   "metadata": {},
   "source": [
    "### Greita užduotis 2\n",
    "\n",
    "Sukurkite kelis skaičių kintamuosius, sudėkite juos, ir pridėkite 5 prie rezultato. Galiausiai išveskite rezultatą."
   ]
  },
  {
   "cell_type": "code",
   "execution_count": 5,
   "metadata": {},
   "outputs": [
    {
     "name": "stdout",
     "output_type": "stream",
     "text": [
      "535\n"
     ]
    }
   ],
   "source": [
    "var1 = 6 + 3 + 56 + 135\n",
    "var2 = 16 + 45 + 246 +23\n",
    "print(var1 + var2 + 5)"
   ]
  },
  {
   "cell_type": "markdown",
   "metadata": {},
   "source": [
    "---\n",
    "\n",
    "## Atimtis `-`\n",
    "\n",
    "Atimties operatorius, leidžia atimti skaičiu"
   ]
  },
  {
   "cell_type": "code",
   "execution_count": 3,
   "metadata": {},
   "outputs": [
    {
     "name": "stdout",
     "output_type": "stream",
     "text": [
      "3\n"
     ]
    }
   ],
   "source": [
    "rezultatas = 10 - 7\n",
    "print(rezultatas)"
   ]
  },
  {
   "cell_type": "markdown",
   "metadata": {},
   "source": [
    "Taip pat galima atimti daugiau nei vieną skaičių, panašiai kaip su sudėtim:"
   ]
  },
  {
   "cell_type": "code",
<<<<<<< Updated upstream
   "execution_count": 4,
=======
   "execution_count": 7,
>>>>>>> Stashed changes
   "metadata": {},
   "outputs": [
    {
     "name": "stdout",
     "output_type": "stream",
     "text": [
      "0\n"
     ]
    }
   ],
   "source": [
    "rezultatas = 6 - 3 - 2 - 1\n",
    "print(rezultatas)"
   ]
  },
  {
   "cell_type": "markdown",
   "metadata": {},
   "source": [
    "### Greita užduotis 3\n",
    "\n",
    "Atimkite skaičių iš kito skaičiaus ir atspausdinkite rezultatą (terminale)"
   ]
  },
  {
   "cell_type": "code",
   "execution_count": 12,
   "metadata": {},
   "outputs": [
    {
     "name": "stdout",
     "output_type": "stream",
     "text": [
      "4\n"
     ]
    }
   ],
   "source": [
    "numeris1 = 7 - 3\n",
    "print(numeris1)"
   ]
  },
  {
   "cell_type": "markdown",
   "metadata": {},
   "source": [
    "### Greita užduotis 4\n",
    "\n",
    "Sukurkite kelis skaičių kintamuosius, atspausdinkite ju skirtumą."
   ]
  },
  {
   "cell_type": "code",
   "execution_count": 13,
   "metadata": {},
   "outputs": [
    {
     "name": "stdout",
     "output_type": "stream",
     "text": [
      "5\n"
     ]
    }
   ],
   "source": [
    "numeris1 = 14\n",
    "numeris2 = 9\n",
    "print(numeris1 - numeris2)"
   ]
  },
  {
   "cell_type": "markdown",
   "metadata": {},
   "source": [
    "---\n",
    "\n",
    "## Daugyba `*`\n",
    "\n",
    "Daugybos operatorius sudaugina kelis ar daugiau skaičius."
   ]
  },
  {
   "cell_type": "code",
   "execution_count": 5,
   "metadata": {},
   "outputs": [
    {
     "name": "stdout",
     "output_type": "stream",
     "text": [
      "8\n"
     ]
    }
   ],
   "source": [
    "rezultatas = 4 * 2\n",
    "print(rezultatas)"
   ]
  },
  {
   "cell_type": "code",
   "execution_count": 6,
   "metadata": {},
   "outputs": [
    {
     "name": "stdout",
     "output_type": "stream",
     "text": [
      "16\n"
     ]
    }
   ],
   "source": [
    "rezultatas = 2 * 2 * 2 * 2\n",
    "print(rezultatas)"
   ]
  },
  {
   "cell_type": "markdown",
   "metadata": {},
   "source": [
    "### Greita užduotis 5\n",
    "\n",
    "Sudauginkite kelis skaičius ir atspaudinkite rezultatą"
   ]
  },
  {
   "cell_type": "code",
   "execution_count": 14,
   "metadata": {},
   "outputs": [
    {
     "name": "stdout",
     "output_type": "stream",
     "text": [
      "12\n"
     ]
    }
   ],
   "source": [
    "dauginam = 2 * 3 * 2\n",
    "print(dauginam)"
   ]
  },
  {
   "cell_type": "markdown",
   "metadata": {},
   "source": [
    "### Greita užduotis 6\n",
    "\n",
    "sukurkite skaičiaus kintamajį, padauginkite kintamajį iš 10 dukart ir atspausdinkite rezultatą"
   ]
  },
  {
   "cell_type": "code",
   "execution_count": 17,
   "metadata": {},
   "outputs": [
    {
     "name": "stdout",
     "output_type": "stream",
     "text": [
      "700\n"
     ]
    }
   ],
   "source": [
    "padauginti = 7\n",
    "rezas = padauginti * 10 *10\n",
    "print(rezas)"
   ]
  },
  {
   "cell_type": "markdown",
   "metadata": {},
   "source": [
    "---\n",
    "\n",
    "## Dalyba `/` ir dalyba su apvalinimu žemyn `//`\n",
    "\n",
    "Dalybos operatorius `/` dalina skaičiu iš kito skaičiaus."
   ]
  },
  {
   "cell_type": "code",
   "execution_count": 7,
   "metadata": {},
   "outputs": [
    {
     "name": "stdout",
     "output_type": "stream",
     "text": [
      "2.0\n"
     ]
    }
   ],
   "source": [
    "sveikasis_rezultatas = 10 / 5\n",
    "print(sveikasis_rezultatas)"
   ]
  },
  {
   "cell_type": "code",
   "execution_count": 8,
   "metadata": {},
   "outputs": [
    {
     "name": "stdout",
     "output_type": "stream",
     "text": [
      "3.3333333333333335\n"
     ]
    }
   ],
   "source": [
    "racionalusis_rezultatas = 10 / 3\n",
    "print(racionalusis_rezultatas)"
   ]
  },
  {
   "cell_type": "markdown",
   "metadata": {},
   "source": [
    "Atkreipkite dėmesį, kad aukščiau pateikto rezultato tipas visada yra slankiojo kablelio skaičius (float), net jei dalinami du sveikieji skaičiai, ir net jei gauta reikšmė yra sveikasis skaičius."
   ]
  },
  {
   "cell_type": "code",
   "execution_count": 9,
   "metadata": {},
   "outputs": [
    {
     "name": "stdout",
     "output_type": "stream",
     "text": [
      "<class 'float'>\n"
     ]
    }
   ],
   "source": [
    "print(type(sveikasis_rezultatas))"
   ]
  },
  {
   "cell_type": "markdown",
   "metadata": {},
   "source": [
    "dalybos su apvalinimu žemyn operatorius `//` dalina du skaičius, atmetant bet kokia dalį po kablelio, ir išveda sveikajį skaičių (int) kaip rezultata. rezultatas visada apvalinamas žemyn."
   ]
  },
  {
   "cell_type": "code",
   "execution_count": 10,
   "metadata": {},
   "outputs": [
    {
     "name": "stdout",
     "output_type": "stream",
     "text": [
      "3 <class 'int'>\n"
     ]
    }
   ],
   "source": [
    "sveikasis_rezultatas = 10 // 3\n",
    "print(sveikasis_rezultatas, type(sveikasis_rezultatas))"
   ]
  },
  {
   "cell_type": "code",
   "execution_count": 11,
   "metadata": {},
   "outputs": [
    {
     "name": "stdout",
     "output_type": "stream",
     "text": [
      "3\n"
     ]
    }
   ],
   "source": [
    "print(11 // 3)"
   ]
  },
  {
   "cell_type": "markdown",
   "metadata": {},
   "source": [
    "### Greita užduotis 7\n",
    "\n",
    "Padalinkite skaičiu iš betkokio kito skaičiaus, išskyrus 0, ir atspausdinkite rezultatą"
   ]
  },
  {
   "cell_type": "code",
   "execution_count": 18,
   "metadata": {},
   "outputs": [
    {
     "name": "stdout",
     "output_type": "stream",
     "text": [
      "3.0\n"
     ]
    }
   ],
   "source": [
    "dalyba = 15 / 5\n",
    "print(dalyba)"
   ]
  },
  {
   "cell_type": "markdown",
   "metadata": {},
   "source": [
    "### Greita užduotis 8\n",
    "\n",
    "Sukurkite du skaičiaus tipo kintamuosius ir padalinkite juos. Atspausdinkite rezultatą. Gautą rezultatą padalinkite dar kartą ir vėl atspausdinkite naujai gautą rezultatą."
   ]
  },
  {
   "cell_type": "code",
   "execution_count": 28,
   "metadata": {},
   "outputs": [
    {
     "name": "stdout",
     "output_type": "stream",
     "text": [
      "4.5\n",
      "2.4\n"
     ]
    }
   ],
   "source": [
    "dalinam1 = 18\n",
    "dalinam2 = 4\n",
    "rezult = dalinam1 / dalinam2\n",
    "print(rezult)\n",
    "dalinam3 = 12\n",
    "dalinam4 = 5\n",
    "rezult2 = dalinam3 / dalinam4\n",
    "print(rezult2)\n"
   ]
  },
  {
   "cell_type": "markdown",
   "metadata": {},
   "source": [
    "### Greita užduotis 9\n",
    "\n",
    "Padalinkite 100 iš 3 dukart naudodami dalybos su apvalinimu žemyn operatoriu ir atspausdinkite rezultatą."
   ]
  },
  {
   "cell_type": "code",
   "execution_count": 27,
   "metadata": {},
   "outputs": [
    {
     "name": "stdout",
     "output_type": "stream",
     "text": [
      "11\n"
     ]
    }
   ],
   "source": [
    "skaicius = 100 // 3 // 3\n",
    "print(skaicius)"
   ]
  },
  {
   "cell_type": "markdown",
   "metadata": {},
   "source": [
    "---\n",
    "\n",
    "## Modulis (liekana) `%`\n",
    "\n",
    "Modulio operatorius `%` suskaičiuoja dalybos liekaną tarp dviejų skaičių."
   ]
  },
  {
   "cell_type": "code",
   "execution_count": 12,
   "metadata": {},
   "outputs": [
    {
     "name": "stdout",
     "output_type": "stream",
     "text": [
      "1\n"
     ]
    }
   ],
   "source": [
    "rezultatas = 10 % 3\n",
    "print(rezultatas)"
   ]
  },
  {
   "cell_type": "markdown",
   "metadata": {},
   "source": [
    "### Greita užduotis 10\n",
    "\n",
    "Sukurkite skaičiaus kintamajį, ir atspausdinkite likuti, kai daliname ta skaičiu iš 5."
   ]
  },
  {
   "cell_type": "code",
   "execution_count": 31,
   "metadata": {},
   "outputs": [
    {
     "name": "stdout",
     "output_type": "stream",
     "text": [
      "12\n",
      "2.4\n"
     ]
    }
   ],
   "source": [
    "Procentai = 2562 % 15\n",
    "print(Procentai)\n",
    "dalinames = Procentai / 5\n",
    "print(dalinames)"
   ]
  },
  {
   "cell_type": "markdown",
   "metadata": {},
   "source": [
    "---\n",
    "\n",
    "## Kelimas laipsniu `**`\n",
    "\n",
    "Laipsnio operatorius kelia skaičių laipsniu kitu skaičiumi."
   ]
  },
  {
   "cell_type": "code",
   "execution_count": 13,
   "metadata": {},
   "outputs": [
    {
     "name": "stdout",
     "output_type": "stream",
     "text": [
      "8\n"
     ]
    }
   ],
   "source": [
    "rezultatas = 2 ** 3\n",
    "print(rezultatas)"
   ]
  },
  {
   "cell_type": "code",
<<<<<<< Updated upstream
   "execution_count": 14,
=======
   "execution_count": 36,
>>>>>>> Stashed changes
   "metadata": {},
   "outputs": [
    {
     "name": "stdout",
     "output_type": "stream",
     "text": [
      "1024\n"
     ]
    }
   ],
   "source": [
    "rezultatas = 2 ** 10\n",
    "print(rezultatas)"
   ]
  },
  {
   "cell_type": "markdown",
   "metadata": {},
   "source": [
    "### Greita užduotis 11\n",
    "\n",
    "Atspausdinkite 17 pakelta kubu"
   ]
  },
  {
   "cell_type": "code",
   "execution_count": 33,
   "metadata": {},
   "outputs": [
    {
     "name": "stdout",
     "output_type": "stream",
     "text": [
      "4913\n"
     ]
    }
   ],
   "source": [
    "kubas = 17 ** 3\n",
    "print(kubas)"
   ]
  },
  {
   "cell_type": "markdown",
   "metadata": {},
   "source": [
    "Vertėtų pastebėti, kad yra galimybė pakelti skaičių laipsniu, kuris yra trupmeninis. Pavyzdžiui, pakėlus laipsniu 0,5, galima gauti skaičiaus šaknį kvadratu."
   ]
  },
  {
   "cell_type": "code",
<<<<<<< Updated upstream
   "execution_count": 15,
=======
   "execution_count": 37,
>>>>>>> Stashed changes
   "metadata": {},
   "outputs": [
    {
     "name": "stdout",
     "output_type": "stream",
     "text": [
      "6.0\n"
     ]
    }
   ],
   "source": [
    "šaknis = 36 ** 0.5\n",
    "print(šaknis)"
   ]
  },
  {
   "cell_type": "code",
   "execution_count": 16,
   "metadata": {},
   "outputs": [
    {
     "name": "stdout",
     "output_type": "stream",
     "text": [
      "3.0\n"
     ]
    }
   ],
   "source": [
    "kubine = 27 ** (1/3)\n",
    "print(kubine)"
   ]
  },
  {
   "cell_type": "markdown",
   "metadata": {},
   "source": [
    "### Greita užduotis 12\n",
    "\n",
    "Atspausdinkite šaknį iš 25. Taip pat atspausdinkite gauto rezultato tipa."
   ]
  },
  {
   "cell_type": "code",
   "execution_count": 43,
   "metadata": {},
   "outputs": [
    {
     "name": "stdout",
     "output_type": "stream",
     "text": [
      "5.0 <class 'float'>\n"
     ]
    }
   ],
   "source": [
    "saknis = 25 ** 0.5\n",
    "print(saknis, type(saknis))"
   ]
  },
  {
   "cell_type": "markdown",
   "metadata": {},
   "source": [
    "---\n",
    "\n",
    "## Operatorių prioritetas ir prioriteto valdymas"
   ]
  },
  {
   "cell_type": "markdown",
   "metadata": {},
   "source": [
    "Operatorių vykdymo tvarka, taip pat vadinama operatorių prioritetas, nustato seką, kuria skirtingi operatoriai yra įvertinami išraiškoje. Prioritetas yra svarbus, nes jis daro įtaką išraiškose, kuriose dalyvauja kelios operacijos, rezultatui ir tikslumui.\n",
    "\n",
    "Python kalboje operatorių prioritetas seka tam tikrą tvarką:\n",
    "\n",
    "1. Skliaustai: Išraiškos skliaustuose vertinamos pirmiausia. Tai leidžia jums suteikti pirmenybę tam tikriems skaičiavimams arba aiškiai nurodyti operacijų vykdymo tvarką.\n",
    "2. Laipsnio pakėlimas: Toliau yra vertinamas operatorius **. Jis pakelia kairėje esantį skaičių laipsniu, nurodytu dešinėje esančiu skaičiumi.\n",
    "3. Daugyba, dalyba ir dalyba su apvalinimu žemyn: Operatoriai *, / ir // yra vertinami nuo kairės į dešinę pagal jų pasirodymą išraiškoje.\n",
    "4. Sudėtis ir Atimtis: Operatoriai + ir - yra vertinami nuo kairės į dešinę pagal jų pasirodymą išraiškoje.\n",
    "\n",
    "Svarbu turėti galvoje šią vykdymo tvarką, rašant sudėtingas išraiškas, kad užtikrintumėte, jog operacijos būtų atliekamos teisingai. Tačiau jei norite pakeisti numatytąją tvarką, galite naudoti skliaustus, kad aiškiai nurodytumėte norimą vertinimo seką.\n",
    "\n",
    "Pavyzdžiui:"
   ]
  },
  {
   "cell_type": "code",
<<<<<<< Updated upstream
   "execution_count": 17,
=======
   "execution_count": 44,
>>>>>>> Stashed changes
   "metadata": {},
   "outputs": [
    {
     "name": "stdout",
     "output_type": "stream",
     "text": [
      "14\n"
     ]
    }
   ],
   "source": [
    "rezultatas = 2 + 3 * 4\n",
    "print(rezultatas)"
   ]
  },
  {
   "cell_type": "markdown",
   "metadata": {},
   "source": [
    "Šiuo atveju, nors sudėtis atliekama prieš daugybą, daugyba turi didesnį prioritetą. Todėl Python pirmiausia įvertina 3 * 4, o tada prideda 2 prie rezultato.\n",
    "\n",
    "Kad užtikrintumėte, jog sudėtis būtų atlikta prieš daugybą, galite naudoti skliaustus:"
   ]
  },
  {
   "cell_type": "code",
   "execution_count": 18,
   "metadata": {},
   "outputs": [
    {
     "name": "stdout",
     "output_type": "stream",
     "text": [
      "20\n"
     ]
    }
   ],
   "source": [
    "rezultatas = (2 + 3) * 4\n",
    "print(rezultatas)"
   ]
  },
  {
   "cell_type": "markdown",
   "metadata": {},
   "source": [
    "Dabar, išraiška skliaustuose (2 + 3) yra įvertinta pirmiausia, rezultatas yra 5. Tada Python atlieka daugybą su 4 ir gauna rezultatą 20."
   ]
  },
  {
   "cell_type": "markdown",
   "metadata": {},
   "source": [
    "### Greita užduotis 13\n",
    "\n",
    "Tarkime, praleidote valandą vaikščiodami 5 km, tada dar valandą nuvažiuodami autobusu 30 km, ir paskui pusvalandį vėl ėję 3 km. Atspausdinkite savo vidutinį greitį."
   ]
  },
  {
   "cell_type": "code",
   "execution_count": 48,
   "metadata": {},
   "outputs": [
    {
     "name": "stdout",
     "output_type": "stream",
     "text": [
      "15.2\n"
     ]
    }
   ],
   "source": [
    "kelione_km = 5 + 30 + 3\n",
    "laikas = 1 + 1 + 0.5\n",
    "greitis = kelione_km / laikas\n",
    "print(greitis)"
   ]
  },
  {
   "cell_type": "markdown",
   "metadata": {},
   "source": [
    "Atlikite šį uždavinį kiek įmanoma optimizuotai vienoje eilutėje."
   ]
  },
  {
   "cell_type": "code",
   "execution_count": 47,
   "metadata": {},
   "outputs": [
    {
     "name": "stdout",
     "output_type": "stream",
     "text": [
      "15.2\n"
     ]
    }
   ],
   "source": [
    "print((5 + 30 + 3) / 2.5)"
   ]
  },
  {
   "cell_type": "markdown",
   "metadata": {},
   "source": [
    "---\n",
    "\n",
    "## Skliaustai skliaustuose"
   ]
  },
  {
   "cell_type": "markdown",
   "metadata": {},
   "source": [
    "naudojant skliaustus skliaustuose `( )` leidžia jums valdyti operacijų vykdymo tvarką ir atlikti skaičiavimus konkrečiose grupėse. Pavyzdžiui:"
   ]
  },
  {
   "cell_type": "code",
   "execution_count": 19,
   "metadata": {},
   "outputs": [
    {
     "name": "stdout",
     "output_type": "stream",
     "text": [
      "6\n"
     ]
    }
   ],
   "source": [
    "rezultatas = (10 + 2) * (4 - 1) // ((2 + 1) * 2)\n",
    "print(rezultatas)"
   ]
  },
  {
   "cell_type": "markdown",
   "metadata": {},
   "source": [
    "### Greita užduotis 14\n",
    "\n",
    "Sukurkite sudėtingą matematine išraiską, naudodami skirtingus matematinius operatorius ir skliaustus skliaustuose, panaudomi savo vaizduote :) Fizikos uždavinys butu idealiausias."
   ]
  },
  {
   "cell_type": "code",
   "execution_count": 61,
   "metadata": {},
   "outputs": [
    {
     "name": "stdout",
     "output_type": "stream",
     "text": [
      "11.3\n"
     ]
    }
   ],
   "source": [
    "Spresk = ((14 + 7.3) * (11 - 5.1) // ((3 * 5.1) * 2) + 7.3)\n",
    "print(Spresk)"
   ]
  },
  {
   "cell_type": "markdown",
   "metadata": {},
   "source": [
    "---\n",
    "\n",
    "## Sudėtinio priskyrimo operatoriai"
   ]
  },
  {
   "cell_type": "markdown",
   "metadata": {},
   "source": [
    "Sudėtinio priskyrimo operatoriai yra sutrumpinti metodai atlikti veiksmą su kintamojo reikšme ir tada priskirti gautą rezultatą tam pačiam kintamajam. Jie yra naudingi, kai norite modifikuoti kintamojo reikšmę nesirašydami kintamojo pavadinimo dvigubai.\n",
    "\n",
    "Štai išsami apžvalga dažniausiai naudojamų sudėtinio priskyrimo operatorių:\n",
    "\n",
    "| Operatorius | Trumpinys       | Pavyzdys   | Lygiavertė išraiška |\n",
    "|-------------|-----------------|------------|---------------------|\n",
    "| `+=`        | `x = x + y`     | `x += y`   | `x = x + y`         |\n",
    "| `-=`        | `x = x - y`     | `x -= y`   | `x = x - y`         |\n",
    "| `*=`        | `x = x * y`     | `x *= y`   | `x = x * y`         |\n",
    "| `/=`        | `x = x / y`     | `x /= y`   | `x = x / y`         |\n",
    "| `%=`        | `x = x % y`     | `x %= y`   | `x = x % y`         |\n",
    "| `**=`       | `x = x ** y`    | `x **= y`  | `x = x ** y`        |\n",
    "| `//=`       | `x = x // y`    | `x //= y`  | `x = x // y`        |\n",
    "\n",
    "### Pavyzdžiai:"
   ]
  },
  {
   "cell_type": "code",
   "execution_count": 21,
   "metadata": {},
   "outputs": [
    {
     "name": "stdout",
     "output_type": "stream",
     "text": [
      "8\n",
      "16\n"
     ]
    }
   ],
   "source": [
    "x = 5\n",
    "x += 3  # yra lygus x = x + 3\n",
    "print(x)  # Išvestis: 8\n",
    "\n",
    "x *= 2  # yra lygus x = x * 2\n",
    "print(x)  # Išvestis: 16"
   ]
  },
  {
   "cell_type": "markdown",
   "metadata": {},
   "source": [
    "### Greitas paaiškinimas:\n",
    "\n",
    "Python kalboje nėra inkrementavimo (++) ir dekrementavimo (--) operatorių. Jeigu moketės tokias kalbas kaip C, C++, ar Java, tai jum gali pasirodyti keistai. Vietoij `x++` ar `x--`, Python kalboje mes naudojam `x += 1` arba `x -= 1`.\n",
    "\n",
    "### Greita užduotis 15:\n",
    "\n",
    "1. Sukurkite skaičiaus 10 kintamajį .\n",
    "2. Naudokite sudėtinio priskyrimo operatorių, kad iš kintamojo atimtumėte 5.\n",
    "3. Naudokite kitą sudėtinio priskyrimo operatorių, kad kintamaji padaugintumėte iš 3.\n",
    "4. Atspausdinkite rezultatą. Kokią reikšmę gavote?"
   ]
  },
  {
   "cell_type": "code",
   "execution_count": 1,
   "metadata": {},
   "outputs": [
    {
     "name": "stdout",
     "output_type": "stream",
     "text": [
      "15\n"
     ]
    }
   ],
   "source": [
    "x = 10\n",
    "x -= 5\n",
    "x = x * 3\n",
    "print(x)"
   ]
  },
  {
   "cell_type": "markdown",
   "metadata": {},
   "source": [
    "---\n",
    "\n",
    "## Išvada\n",
    "\n",
    "Tai tik keli pavyzdžiai, kaip galite atlikti skaičiavimus su skaičiais naudodami Python kalbą. Kūrybiškai ir strategiškai naudojant šiuos operatorius, galite spręsti matematinius skaičiavimus ir kurti sudėtingus algoritmus savo programose."
   ]
  },
  {
   "cell_type": "markdown",
   "metadata": {},
   "source": [
    "---\n",
    "\n",
    "## Papildomos šaltiniai"
   ]
  },
  {
   "cell_type": "markdown",
   "metadata": {},
   "source": [
    "- Daugiau užduočių [LearnPython.org](https://www.learnpython.org/en/Basic_Operators)\n",
    "- Oficiali [Python dokumentacija](https://docs.python.org/3/library/stdtypes.html#numeric-types-int-float-complex).\n",
    "- [RealPython](https://realpython.com/python-operators-expressions/) taip pat turi labai išsamią medžiagą, bet tai susiję su mūsų sekančia tema."
   ]
  }
 ],
 "metadata": {
  "kernelspec": {
   "display_name": "venv",
   "language": "python",
   "name": "python3"
  },
  "language_info": {
   "codemirror_mode": {
    "name": "ipython",
    "version": 3
   },
   "file_extension": ".py",
   "mimetype": "text/x-python",
   "name": "python",
   "nbconvert_exporter": "python",
   "pygments_lexer": "ipython3",
<<<<<<< Updated upstream
   "version": "3.11.7"
=======
   "version": "3.12.1"
>>>>>>> Stashed changes
  },
  "orig_nbformat": 4
 },
 "nbformat": 4,
 "nbformat_minor": 2
}
