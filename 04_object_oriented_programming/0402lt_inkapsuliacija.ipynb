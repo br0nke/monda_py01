{
 "cells": [
  {
   "cell_type": "markdown",
   "metadata": {},
   "source": [
    "# Inkapsuliacija\n",
    "\n",
    "`Inkapsuliacija` yra objektinio programavimo konceptas, kuris apjungia duomenis ir metodus juos apdorojant į vieną vienetą – klasę. Ji padeda apsaugoti objekto būseną nuo netinkamo prieinamumo ar modifikacijos iš išorės. `Inkapsuliacija` leidžia programuotojams sukurti sąsają, per kurią galima saugiai bendrauti su objekto duomenimis. Tai įgalina duomenų ir metodų paslėpimą, užtikrindama, kad objekto naudojimas būtų atliekamas kaip numatyta. Dėl šios savybės kodo priežiūra tampa lengvesnė ir galima išvengti netikėtų klaidų."
   ]
  },
  {
   "cell_type": "markdown",
   "metadata": {},
   "source": [
    "---\n",
    "\n",
    "## Privatūs Atributai\n",
    "\n",
    "`Privatūs atributai` yra klasės komponentai, kurie negali būti tiesiogiai prieinami iš klasės išorės. Tai reiškia, kad juos galima pakeisti arba skaityti tik per klasės metodus. Python kalboje, privatūs kintamieji paprastai sukuriami pridedant `du pabrauktukus` prieš kintamojo pavadinimą (pvz., `__spalva`).\n",
    "\n",
    "Pavyzdžiui:"
   ]
  },
  {
   "cell_type": "code",
   "execution_count": 4,
   "metadata": {},
   "outputs": [],
   "source": [
    "class Automobilis:\n",
    "    def __init__(self, marke, modelis, metai=2023, spalva='pilka'):\n",
    "        self.marke = marke\n",
    "        self.modelis = modelis\n",
    "        self.__metai = metai\n",
    "        self.__spalva = spalva\n",
    "\n",
    "    def gauti_metus(self):\n",
    "        return self.__metai\n",
    "\n",
    "    def gauti_spalva(self):\n",
    "        return self.__spalva"
   ]
  },
  {
   "cell_type": "code",
   "execution_count": 3,
   "metadata": {},
   "outputs": [
    {
     "name": "stdout",
     "output_type": "stream",
     "text": [
      "Mercedes\n",
      "C-Class\n",
      "2023\n",
      "pilka\n"
     ]
    }
   ],
   "source": [
    "mersas = Automobilis('Mercedes', 'C-Class')\n",
    "\n",
    "print(mersas.marke)  # Mercedes\n",
    "print(mersas.modelis)  # C-Class\n",
    "print(mersas.gauti_metus())  # 2023\n",
    "print(mersas.gauti_spalva())  # pilka"
   ]
  },
  {
   "cell_type": "code",
   "execution_count": 10,
   "metadata": {},
   "outputs": [
    {
     "name": "stdout",
     "output_type": "stream",
     "text": [
      "Mersas C-Class pilka\n"
     ]
    }
   ],
   "source": [
    "mersas.marke = \"Mersas\"\n",
    "mersas.__spalva = \"juodas\"\n",
    "print(mersas.marke, mersas.modelis, mersas.gauti_spalva())"
   ]
  },
  {
   "cell_type": "markdown",
   "metadata": {},
   "source": [
    "Tai demonstruoja \n",
    "- `Automobilis` klasės objekto su konkrečiais atributais sukūrimą, \n",
    "- Atributų gavimą naudojant gavimo metodus "
   ]
  },
  {
   "cell_type": "markdown",
   "metadata": {},
   "source": [
    "### Greita užduotis 1: Automobilio Klasės Papildymas\n",
    "\n",
    "- Pridėti privačią savybę `__rida`, kuri saugotų automobilio nuvažiuotus kilometrus. Pradinė `__rida` reikšmė turėtų būti 0.\n",
    "- Sukurti metodą `vaziuoti(kilometrai)`, kuris pridėtų argumente nurodytą kilometrų skaičių prie automobilio ridos ir atspausdintų pranešimą apie tai.\n",
    "- Sukurti metodą `gauti_rida()`, kuris grąžintų automobilio bendrą nuvažiuotų kilometrų skaičių."
   ]
  },
  {
   "cell_type": "code",
   "execution_count": 16,
   "metadata": {},
   "outputs": [
    {
     "name": "stdout",
     "output_type": "stream",
     "text": [
      "Automobilis Mazda MX5 nuvaziavo 5503 km.\n",
      "Automobilis Mazda MX5 nuvaziavo 73 km.\n",
      "All info: Mazda MX5 rida: 5576 km.\n"
     ]
    }
   ],
   "source": [
    "# jusu kodo vieta\n",
    "class Automobilis: \n",
    "    def __init__(self, marke, modelis, metai=2021, spalva='balta'): \n",
    "        self.marke = marke \n",
    "        self.modelis = modelis \n",
    "        self.__metai = metai \n",
    "        self.__spalva = spalva \n",
    "        self.__rida = 0\n",
    "\n",
    "    def gauti_metus(self):\n",
    "        return self.__metai\n",
    "\n",
    "    def gauti_spalva(self):\n",
    "        return self.__spalva\n",
    "    \n",
    "    def vaziuoti(self, kilometrai):\n",
    "        self.__rida += kilometrai\n",
    "        print(f'Automobilis {self.marke} {self.modelis} nuvaziavo {kilometrai} km.')\n",
    "\n",
    "    def gauti_rida(self):\n",
    "        return self.__rida\n",
    "\n",
    "masina_nauja = Automobilis('Mazda', 'MX5')\n",
    "masina_nauja.vaziuoti(5503)\n",
    "masina_nauja.vaziuoti(73)\n",
    "print(f\"All info: {masina_nauja.marke} {masina_nauja.modelis} rida: {masina_nauja.gauti_rida()} km.\")"
   ]
  },
  {
   "cell_type": "markdown",
   "metadata": {},
   "source": [
    "---\n",
    "\n",
    "## Privatūs metodai \n",
    "\n",
    "`Privatūs metodai` yra klasės metodai, kurie taip pat nėra tiesiogiai prieinami iš klasės išorės. Jie dažnai naudojami vidinėje klasės logikoje ir yra skirti tik klasės naudojimui. Python kalboje privatūs metodai taip pat sukuriami pridedant `du pabrauktukus` prieš metodo pavadinimą (pvz., `__pakeisti_spalva()`)."
   ]
  },
  {
   "cell_type": "code",
   "execution_count": 17,
   "metadata": {},
   "outputs": [],
   "source": [
    "class Automobilis:\n",
    "    def __init__(self, marke, modelis, metai=2024, spalva='pilka'):\n",
    "        self.marke = marke\n",
    "        self.modelis = modelis\n",
    "        self.__metai = metai\n",
    "        self.__spalva = spalva\n",
    "\n",
    "    def gauti_metus(self):\n",
    "        return self.__metai\n",
    "\n",
    "    def gauti_spalva(self):\n",
    "        return self.__spalva\n",
    "\n",
    "    def __pakeisti_spalva(self, nauja_spalva):\n",
    "        self.__spalva = nauja_spalva\n",
    "\n",
    "    def perdazyti(self, nauja_spalva):\n",
    "        if len(nauja_spalva) > len(self.__spalva):\n",
    "            self.__pakeisti_spalva(nauja_spalva)\n",
    "        else:\n",
    "            print(\"del keistu priezasciu perdazyti negalima\")"
   ]
  },
  {
   "cell_type": "code",
   "execution_count": 18,
   "metadata": {},
   "outputs": [
    {
     "name": "stdout",
     "output_type": "stream",
     "text": [
      "pilka\n",
      "Toyota\n",
      "Corolla\n",
      "2020\n",
      "Raudona\n",
      "del keistu priezasciu perdazyti negalima\n",
      "Raudona\n"
     ]
    }
   ],
   "source": [
    "zaislinis = Automobilis(marke='Toyota', modelis='Corolla', metai=2020)\n",
    "print(zaislinis.gauti_spalva()) # pilka\n",
    "zaislinis.perdazyti('Raudona')\n",
    "print(zaislinis.marke)  # Toyota\n",
    "print(zaislinis.modelis)  # Corolla\n",
    "print(zaislinis.gauti_metus())  # 2020\n",
    "print(zaislinis.gauti_spalva()) # Raudona\n",
    "zaislinis.perdazyti(\"balta\")\n",
    "# zaislinis.__pakeisti_spalva(\"juoda\") # nepasileidzia\n",
    "print(zaislinis.gauti_spalva()) # Raudona\n"
   ]
  },
  {
   "cell_type": "markdown",
   "metadata": {},
   "source": [
    "Tai demonstruoja \n",
    "- `Automobilis` klasės objekto su konkrečiais atributais sukūrimą, \n",
    "- Atributų gavimą naudojant gavimo metodus \n",
    "- `__spalva` atributo atnaujinimą naudojant viešąjį `perdazyti` metodą."
   ]
  },
  {
   "cell_type": "markdown",
   "metadata": {},
   "source": [
    "*Priminimas*: `Inkapsuliacija` yra svarbi, nes ji padeda užtikrinti kodo saugumą, sumažina klaidų tikimybę ir padidina kodo prieinamumo tvarkymą."
   ]
  },
  {
   "cell_type": "markdown",
   "metadata": {},
   "source": [
    "### Greita užduotis 2: Banko Sąskaitos Klasė\n",
    "\n",
    "### Klasės Kintamieji\n",
    "- `sąskaitos_numeris` - viešas kintamasis\n",
    "- `savininkas` - viešas kintamasis\n",
    "- `likutis` - privatus kintamasis\n",
    "- `PIN_kodas` - privatus kintamasis\n",
    "\n",
    "### Metodai\n",
    "#### Pinigų Išėmimas\n",
    "- Sukurkite metodą `isimti_pinigus`, kuris leidžia išgryninti pinigus iš sąskaitos.\n",
    "- PIN kodas, reikalingas pinigų išėmimui, turi būti patikrintas ir žinomas tik klasės viduje.\n",
    "\n",
    "#### Pinigų Įnešimas\n",
    "- Sukurkite metodą `ideti_pinigus`, kuris leidžia įnešti pinigų į sąskaitą."
   ]
  },
  {
   "cell_type": "code",
   "execution_count": 26,
   "metadata": {},
   "outputs": [
    {
     "name": "stdout",
     "output_type": "stream",
     "text": [
      "150 Eur sekmingai isimta. Dabartinis balansas: 2202 Eur.\n",
      "Wrong PIN code!\n",
      "500 Eur sekmingai inesta i saskaita. Dabartinis balansas: 2702 Eur.\n"
     ]
    }
   ],
   "source": [
    "# jusu kodo vieta\n",
    "class Bankas:\n",
    "    def __init__(self, account_number, owner, balance, pin_code):\n",
    "        self.account_number = account_number\n",
    "        self.owner = owner\n",
    "        self.__balance = balance\n",
    "        self.__pin_code = pin_code\n",
    "\n",
    "    def isimti_pinigus(self, sum, pin_code):\n",
    "        if pin_code == self.__pin_code:\n",
    "            self.__balance -= sum\n",
    "            print(f'{sum} Eur sekmingai isimta. Dabartinis balansas: {self.__balance} Eur.')\n",
    "        else:\n",
    "            print(\"Wrong PIN code!\")\n",
    "    \n",
    "    def ideti_pinigus(self, sum):\n",
    "        self.__balance += sum\n",
    "        print(f'{sum} Eur sekmingai inesta i saskaita. Dabartinis balansas: {self.__balance} Eur.')\n",
    "\n",
    "account = Bankas('UK135895181', 'Smith Frith', 2352, 67834)\n",
    "\n",
    "account.isimti_pinigus(150, 67834)\n",
    "account.isimti_pinigus(100, 67534)\n",
    "account.ideti_pinigus(500)"
   ]
  },
  {
   "cell_type": "markdown",
   "metadata": {},
   "source": [
    "---\n",
    "\n",
    "### Bonus Užduotis: Knygų Klasė\n",
    "\n",
    "### Apžvalga\n",
    "Sukurkite `Book` klasę, kuri atitiktų šias specifikacijas.\n",
    "\n",
    "### Klasės Specifikacija\n",
    "\n",
    "1. **Kintamieji**\n",
    "   - Sukurkite šiuos privačius kintamuosius:\n",
    "     - `__title` (pavadinimas): knygos pavadinimas\n",
    "     - `__author` (autorius): knygos autoriaus vardas\n",
    "     - `__condition` (būklė): knygos būklė\n",
    "     - `__page_count` (puslapių skaičius): puslapių skaičius knygoje\n",
    "\n",
    "2. **Metodai Duomenims Gauti**\n",
    "   - Sukurkite viešus metodus, kad gautumėte kiekvieną privačią savybę:\n",
    "     - `get_title` - grąžina knygos pavadinimą\n",
    "     - `get_author` - grąžina autoriaus vardą\n",
    "     - `get_condition` - grąžina knygos būklę\n",
    "     - `get_page_count` - grąžina puslapių skaičių\n",
    "\n",
    "3. **Būklės Keitimo Metodas**\n",
    "   - Sukurkite viešą metodą `change_condition`, kuris priima vieną argumentą:\n",
    "     - `new_condition` - nauja knygos būklė, kuri gali būti viena iš šių reikšmių: 'patenkinama', 'prasta', 'atnaujinta', 'sugadinta'.\n",
    "     - Šis metodas turi patikrinti, ar `new_condition` yra viena iš leistinų reikšmių ir, jei taip, atnaujinti knygos būklę.\n",
    "\n",
    "4. **Puslapių Skaičiaus Mažinimo Metodas**\n",
    "   - Sukurkite privatų metodą `__decrease_page_count`, kuris priima vieną argumentą:\n",
    "     - `decrease_by` - skaičius, kiek puslapių reikia sumažinti.\n",
    "     - Šis metodas turėtų sumažinti `__page_count` reikšmę, bet negali leisti puslapių skaičiui tapti neigiamu.\n",
    "   - Sukurkite viešą metodą `remove_pages`, kuris kviečia `__decrease_page_count` metodą.\n",
    "\n",
    "## Reikalavimai\n",
    "\n",
    "- Užtikrinkite, kad visi kintamieji būtų privačiai prieinami tik klasei.\n",
    "- Visi viešieji metodai turi būti saugūs ir neturi leisti objekto būsenai tapti neteisingai (pvz., puslapių skaičius negali būti neigiamas).\n",
    "- Viešieji metodai turėtų turėti prasmingus patikrinimus, kad būtų išvengta netinkamo jų naudojimo."
   ]
  },
  {
   "cell_type": "code",
   "execution_count": 33,
   "metadata": {},
   "outputs": [
    {
     "name": "stdout",
     "output_type": "stream",
     "text": [
      "Netinkamas bukles zodis! Jie gali buti tik: 'patenkinama', 'prasta', 'atnaujinta', 'sugadinta'.\n",
      "prasta\n",
      "Klaida puislapiu kiekis negali sumazeti zemiau 0.\n",
      "21\n"
     ]
    }
   ],
   "source": [
    "# jusu kodo vieta\n",
    "class Book:\n",
    "    def __init__(self, title, author, condition, page_count):\n",
    "        self.__title = title\n",
    "        self.__author = author\n",
    "        self.__condition = condition\n",
    "        self.__page_count = page_count\n",
    "    \n",
    "    def get_title(self):\n",
    "        return self.__title\n",
    "    \n",
    "    def get_author(self):\n",
    "        return self.__author\n",
    "    \n",
    "    def get_condition(self):\n",
    "        return self.__condition\n",
    "    \n",
    "    def get_page_count(self):\n",
    "        return self.__page_count\n",
    "    \n",
    "    def change_condition(self, new_condition):\n",
    "        allowed_words = ['patenkinama', 'prasta', 'atnaujinta','sugadinta']\n",
    "        if new_condition in allowed_words:\n",
    "            self.__condition = new_condition\n",
    "        else:\n",
    "            print(\"Netinkamas bukles zodis! Jie gali buti tik: 'patenkinama', 'prasta', 'atnaujinta', 'sugadinta'.\")\n",
    "        \n",
    "    def __decrease_page_count(self, decrease_by):\n",
    "        if decrease_by < 0:\n",
    "            print(\"Klaida puslapiu skaicius negali buti maziau 0.\")\n",
    "            return\n",
    "        if self.__page_count - decrease_by < 0:\n",
    "            print(\"Klaida puislapiu kiekis negali sumazeti zemiau 0.\")\n",
    "            return\n",
    "        else:\n",
    "            self.__page_count -= decrease_by\n",
    "        \n",
    "    def remove_pages(self, decrease_by):\n",
    "        self.__decrease_page_count(decrease_by)\n",
    "\n",
    "knyga1 = Book(\"Svetimas\", \"A. Kamiu\", \"atnaujinta\", 120)\n",
    "\n",
    "knyga1.change_condition(\"nuliova\")\n",
    "knyga1.change_condition(\"prasta\")\n",
    "print(knyga1.get_condition())\n",
    "\n",
    "knyga1.remove_pages(122)\n",
    "knyga1.remove_pages(99)\n",
    "print(knyga1.get_page_count())"
   ]
  }
 ],
 "metadata": {
  "kernelspec": {
   "display_name": "venv",
   "language": "python",
   "name": "python3"
  },
  "language_info": {
   "codemirror_mode": {
    "name": "ipython",
    "version": 3
   },
   "file_extension": ".py",
   "mimetype": "text/x-python",
   "name": "python",
   "nbconvert_exporter": "python",
   "pygments_lexer": "ipython3",
   "version": "3.12.1"
  }
 },
 "nbformat": 4,
 "nbformat_minor": 2
}
