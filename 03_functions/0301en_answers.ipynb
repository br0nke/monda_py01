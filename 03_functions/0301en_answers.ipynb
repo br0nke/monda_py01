{
 "cells": [
  {
   "cell_type": "markdown",
   "metadata": {},
   "source": [
    "# `Quick assignment 1: Function Definition Structure`"
   ]
  },
  {
   "cell_type": "code",
   "execution_count": null,
   "metadata": {},
   "outputs": [
    {
     "ename": "",
     "evalue": "",
     "output_type": "error",
     "traceback": [
      "\u001b[1;31mRunning cells with 'c:\\Users\\woite\\AppData\\Local\\Programs\\Python\\Python312\\python.exe' requires the ipykernel package.\n",
      "\u001b[1;31mRun the following command to install 'ipykernel' into the Python environment. \n",
      "\u001b[1;31mCommand: 'c:/Users/woite/AppData/Local/Programs/Python/Python312/python.exe -m pip install ipykernel -U --user --force-reinstall'"
     ]
    }
   ],
   "source": [
    "def is_even_or_odd(number):\n",
    "    if number % 2 == 0:\n",
    "        print(number, \"is even.\")\n",
    "    else:\n",
    "        print(number, \"is odd.\")\n",
    "\n",
    "is_even_or_odd(14)"
   ]
  },
  {
   "cell_type": "markdown",
   "metadata": {},
   "source": [
    "# `Quick Assignment 3: Check if Positive`"
   ]
  },
  {
   "cell_type": "code",
   "execution_count": null,
   "metadata": {},
   "outputs": [],
   "source": [
    "def is_positive(number):\n",
    "    if isinstance(number, (int, float)):\n",
    "        if number > 0:\n",
    "            print(number, \"is positive.\")\n",
    "        else:\n",
    "            print(number, \"is not positive.\")\n",
    "    else:\n",
    "        print(number, \"is not a number\")\n",
    "\n",
    "is_positive('4')\n",
    "is_positive(777)\n",
    "is_positive(-42)"
   ]
  },
  {
   "cell_type": "markdown",
   "metadata": {},
   "source": [
    "# `Quick Assignment 4: Check if Greater Than`"
   ]
  },
  {
   "cell_type": "code",
   "execution_count": 6,
   "metadata": {},
   "outputs": [
    {
     "name": "stdout",
     "output_type": "stream",
     "text": [
      "10 equals 10\n",
      "42 is greater than 10\n",
      "7 is not greater than 10\n"
     ]
    }
   ],
   "source": [
    "def is_greater_than(number, limit):\n",
    "    if number > limit:\n",
    "        print(number, \"is greater than\", limit)\n",
    "    elif number == limit:\n",
    "        print(number, \"equals\", limit)\n",
    "    else:\n",
    "        print(number, \"is not greater than\", limit)\n",
    "\n",
    "is_greater_than(10, 10)\n",
    "is_greater_than(42, 10)\n",
    "is_greater_than(7, 10)"
   ]
  }
 ],
 "metadata": {
  "kernelspec": {
   "display_name": "Python 3",
   "language": "python",
   "name": "python3"
  },
  "language_info": {
   "codemirror_mode": {
    "name": "ipython",
    "version": 3
   },
   "file_extension": ".py",
   "mimetype": "text/x-python",
   "name": "python",
   "nbconvert_exporter": "python",
   "pygments_lexer": "ipython3",
   "version": "3.12.1"
  },
  "orig_nbformat": 4
 },
 "nbformat": 4,
 "nbformat_minor": 2
}
