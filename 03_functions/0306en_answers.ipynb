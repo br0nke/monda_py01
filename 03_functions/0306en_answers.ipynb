{
 "cells": [
  {
   "cell_type": "markdown",
   "metadata": {},
   "source": [
    "# `Quick assignment 1: Using Lambda with map`"
   ]
  },
  {
   "cell_type": "code",
   "execution_count": null,
   "metadata": {},
   "outputs": [],
   "source": [
    "# Step 1: Create a list of numbers from 1 to 10 (inclusive)\n",
    "numbers = list(range(1, 11))\n",
    "\n",
    "# Step 2: Use the map function with a lambda function to calculate the cube of each number\n",
    "cubes = list(map(lambda x: x**3, numbers))\n",
    "\n",
    "# Step 3: Print the cubes list\n",
    "print(cubes)"
   ]
  },
  {
   "cell_type": "markdown",
   "metadata": {},
   "source": [
    "# `Quick Assignment 2: Sorting Words by Length Using Lambda`"
   ]
  },
  {
   "cell_type": "code",
   "execution_count": null,
   "metadata": {},
   "outputs": [],
   "source": [
    "# `Quick Assignment 2: Sorting Words by Length Using Lambda`\n",
    "\n",
    "# Step 1: Create a list called `words` containing at least five words of varying lengths.\n",
    "words = [\"apple\", \"banana\", \"cherry\", \"date\", \"elderberry\"]\n",
    "\n",
    "# Step 2: Write a Python program that uses the `sorted` function with a `lambda` function as the key argument to sort the words list in ascending order of word length.\n",
    "sorted_words = sorted(words, key=lambda x: len(x))\n",
    "\n",
    "# Step 3: Store the `sorted` list in a new variable called `sorted_words`.\n",
    "# (This step is already accomplished in Step 2)\n",
    "\n",
    "# Step 4: Finally, print the `sorted_words` list to display the words sorted by length.\n",
    "print(sorted_words)\n"
   ]
  },
  {
   "cell_type": "markdown",
   "metadata": {},
   "source": [
    "# `Quick Assignment 3: Filtering Words by Length Using Lambda`"
   ]
  },
  {
   "cell_type": "code",
   "execution_count": null,
   "metadata": {},
   "outputs": [],
   "source": [
    "# `Quick Assignment 3: Filtering Words by Length Using Lambda`\n",
    "\n",
    "# Task 1: Create a list called words containing at least five words of varying lengths.\n",
    "words = [\"apple\", \"banana\", \"cherry\", \"grape\", \"strawberry\"]\n",
    "\n",
    "# Task 2: Write a Python program that uses the filter function with a lambda function as the filtering condition\n",
    "# to select only the words from the words list that have a length greater than 5 characters.\n",
    "long_words = list(filter(lambda word: len(word) > 5, words))\n",
    "\n",
    "# Task 3: Store the filtered words in a new list called `long_words`.\n",
    "\n",
    "# Task 4: Finally, print the `long_words` list to display the words with a length greater than 5 characters.\n",
    "print(long_words)\n"
   ]
  },
  {
   "cell_type": "markdown",
   "metadata": {},
   "source": [
    "# `Assignment: Lambda Functions for Data Processing`"
   ]
  },
  {
   "cell_type": "code",
   "execution_count": null,
   "metadata": {},
   "outputs": [],
   "source": [
    "# `Assignment: Lambda Functions for Data Processing`\n",
    "\n",
    "# Task 1: Create a list called words containing at least eight words of varying lengths.\n",
    "words = [\"apple\", \"banana\", \"cherry\", \"grape\", \"strawberry\", \"watermelon\", \"kiwi\", \"pineapple\"]\n",
    "\n",
    "# Task 2: Write a Python program that performs the following tasks in order:\n",
    "\n",
    "# a. Use the `map` function along with a lambda function to convert all the words in the words list to uppercase.\n",
    "uppercase_words = list(map(lambda word: word.upper(), words))\n",
    "\n",
    "# b. Use the `sorted` function with a lambda function as the key argument to sort the words list in descending order of word length.\n",
    "sorted_words_desc = sorted(words, key=lambda word: len(word), reverse=True)\n",
    "\n",
    "# c. Use the `filter` function with a lambda function as the filtering condition to select only the words from the words list that have a length greater than 5 characters.\n",
    "long_words = list(filter(lambda word: len(word) > 5, words))\n",
    "\n",
    "# Task 3: Finally, print all three lists (uppercase_words, sorted_words_desc, and long_words) to display the results of each operation.\n",
    "print(\"Uppercase Words:\", uppercase_words)\n",
    "print(\"Sorted Words in Descending Order of Length:\", sorted_words_desc)\n",
    "print(\"Long Words (Length > 5):\", long_words)\n"
   ]
  }
 ],
 "metadata": {
  "kernelspec": {
   "display_name": "Python 3",
   "language": "python",
   "name": "python3"
  },
  "language_info": {
   "codemirror_mode": {
    "name": "ipython",
    "version": 3
   },
   "file_extension": ".py",
   "mimetype": "text/x-python",
   "name": "python",
   "nbconvert_exporter": "python",
   "pygments_lexer": "ipython3",
   "version": "3.12.1"
  },
  "orig_nbformat": 4
 },
 "nbformat": 4,
 "nbformat_minor": 2
}
