{
 "cells": [
  {
   "cell_type": "markdown",
   "metadata": {},
   "source": [
    "# Function Definition Structure\n",
    "The Function Definition Structure in Python consists of using the `def` keyword followed by a `function name` and its arguments `enclosed in parentheses`. \n",
    "\n",
    "The function's actions are defined in an `indented block` beneath the function definition. \n",
    "\n",
    "**Here's a short breakdown**:\n",
    "\n",
    "- `def` declares a function.\n",
    "- `function_name` is the name you give to the function.\n",
    "- `arguments` are values the function accepts as input.\n",
    "- Actions of the function are specified in the indented code block below.\n",
    "\n",
    "**Illustrated with a concise example**:"
   ]
  },
  {
   "cell_type": "code",
   "execution_count": null,
   "metadata": {},
   "outputs": [],
   "source": [
    "def greet(name):\n",
    "    \"\"\"This function greets the person passed in as an argument.\"\"\"\n",
    "    print(f\"Hello, {name}!\")\n",
    "\n",
    "# Example Usage\n",
    "greet(\"Alice\")"
   ]
  },
  {
   "cell_type": "markdown",
   "metadata": {},
   "source": [
    "- In this example, the `greet` function takes a single argument (`name`) and prints a greeting using that argument.\n",
    "\n",
    "Here's an example of defining a function that takes two arguments and prints them to the console."
   ]
  },
  {
   "cell_type": "code",
   "execution_count": 1,
   "metadata": {},
   "outputs": [
    {
     "name": "stdout",
     "output_type": "stream",
     "text": [
      "Name: John\n",
      "Age: 25\n"
     ]
    }
   ],
   "source": [
    "def print_arguments(name, age):\n",
    "    \"\"\"This function takes two arguments and prints them to the console.\"\"\"\n",
    "    print(f\"Name: {name}\")\n",
    "    print(f\"Age: {age}\")\n",
    "\n",
    "print_arguments(\"John\", 25)"
   ]
  },
  {
   "cell_type": "markdown",
   "metadata": {},
   "source": [
    "- In this example, the `print_arguments` function is defined to take two arguments (`name` and `age`) and then prints them to the console. \n",
    "- The function is then called with the arguments \"`John`\" and \"`25`\"."
   ]
  },
  {
   "cell_type": "markdown",
   "metadata": {},
   "source": [
    "# `Quick assignment 1: Function Definition Structure`\n",
    "\n",
    "**Instructions**:\n",
    "\n",
    "1. Define a function named `calculate_area` that takes two parameters, `length` and `width`, and calculates the area of a rectangle.\n",
    "1. Print the calculated area to the console."
   ]
  },
  {
   "cell_type": "code",
   "execution_count": 5,
   "metadata": {},
   "outputs": [
    {
     "name": "stdout",
     "output_type": "stream",
     "text": [
      "length: 35\n",
      "width: 25\n"
     ]
    },
    {
     "data": {
      "text/plain": [
       "('area of rectangle', 875)"
      ]
     },
     "execution_count": 5,
     "metadata": {},
     "output_type": "execute_result"
    }
   ],
   "source": [
    "# your code here\n",
    "def calculate_area(lenght, width):\n",
    "    \"\"\"Calculates the size of area \"\"\"\n",
    "    print(f\"length: {lenght}\")\n",
    "    print(f\"width: {width}\")\n",
    "    return (\"area of rectangle\", lenght * width)\n",
    "\n",
    "calculate_area(35, 25)"
   ]
  },
  {
   "cell_type": "markdown",
   "metadata": {},
   "source": [
    "## Using `if`, `elif`, `else` in a Function\n",
    "\n",
    "You can use conditional statements such as `if`, `elif`, and `else` within a function to execute different actions based on specific conditions.\n",
    "\n",
    "**Here's an example**:"
   ]
  },
  {
   "cell_type": "code",
   "execution_count": 6,
   "metadata": {},
   "outputs": [
    {
     "name": "stdout",
     "output_type": "stream",
     "text": [
      "C: Satisfactory\n"
     ]
    }
   ],
   "source": [
    "def assess_grade(score):\n",
    "    \"\"\"This function assesses and prints the grade based on the provided score.\"\"\"\n",
    "    if score >= 90:\n",
    "        print(\"A: Excellent\")\n",
    "    elif 80 <= score < 90:\n",
    "        print(\"B: Good\")\n",
    "    elif 70 <= score < 80:\n",
    "        print(\"C: Satisfactory\")\n",
    "    elif 60 <= score < 70:\n",
    "        print(\"D: Needs Improvement\")\n",
    "    else:\n",
    "        print(\"F: Fail\")\n",
    "\n",
    "# Example Usage\n",
    "assess_grade(75)"
   ]
  },
  {
   "cell_type": "markdown",
   "metadata": {},
   "source": [
    "- In this example, the assess_grade function takes a score as an argument and uses `if`, `elif`, and `else` statements to determine and print the corresponding grade based on the provided score. The function is then called with the argument `75`."
   ]
  },
  {
   "cell_type": "markdown",
   "metadata": {},
   "source": [
    "**Here's a second example**:"
   ]
  },
  {
   "cell_type": "code",
   "execution_count": 7,
   "metadata": {},
   "outputs": [
    {
     "name": "stdout",
     "output_type": "stream",
     "text": [
      "The number 15 is Odd.\n"
     ]
    }
   ],
   "source": [
    "def is_even_or_odd(number):\n",
    "    \"\"\"This function determines if the given number is even or odd.\"\"\"\n",
    "    result = \"Even\" if number % 2 == 0 else \"Odd\"\n",
    "    print(f\"The number {number} is {result}.\")\n",
    "\n",
    "# Example Usage\n",
    "is_even_or_odd(15)"
   ]
  },
  {
   "cell_type": "markdown",
   "metadata": {},
   "source": [
    "- In this example, the `is_even_or_odd` function takes a `number` as an argument and uses a conditional expression (`if-else` in a single line) to check if the number is even or odd. The result is then printed to the console. The function is called with the argument `15`."
   ]
  },
  {
   "cell_type": "markdown",
   "metadata": {},
   "source": [
    "In summary, a Python function is defined using the `def` statement, followed by the function `name` and its `arguments`. You can use conditional statements within a function to perform different actions based on conditions, and functions can take any number of arguments or `none` at all."
   ]
  },
  {
   "cell_type": "markdown",
   "metadata": {},
   "source": [
    "# `Quick Assignment 2: Check Even or Odd`\n",
    "1. Write a function that checks whether a number is `even` or `odd` and prints the corresponding message."
   ]
  },
  {
   "cell_type": "code",
   "execution_count": 8,
   "metadata": {},
   "outputs": [
    {
     "name": "stdout",
     "output_type": "stream",
     "text": [
      "Numeris 17 is Odd\n"
     ]
    }
   ],
   "source": [
    "# your code here\n",
    "def legynis_nelyginis(number):\n",
    "    resultatas = \"Even\" if number % 2 == 0 else \"Odd\"\n",
    "    print(f\"Numeris {number} is {resultatas}\")\n",
    "\n",
    "legynis_nelyginis(17)"
   ]
  },
  {
   "cell_type": "markdown",
   "metadata": {},
   "source": [
    "# `Quick Assignment 3: Check if Positive`\n",
    "1. Write a function is_positive(number) that checks whether a number is `positive` and prints the corresponding message."
   ]
  },
  {
   "cell_type": "code",
   "execution_count": 12,
   "metadata": {},
   "outputs": [
    {
     "name": "stdout",
     "output_type": "stream",
     "text": [
      "Numeris -3 is Negatyvus\n"
     ]
    }
   ],
   "source": [
    "# your code here\n",
    "def is_positive(number):\n",
    "    resultat = \"Positivus\" if number > 0 else \"Negatyvus\"\n",
    "    print(f\"Numeris {number} is {resultat}\")\n",
    "\n",
    "is_positive(-3)"
   ]
  },
  {
   "cell_type": "markdown",
   "metadata": {},
   "source": [
    "# `Quick Assignment 4: Check if Greater Than`\n",
    "1. Write a function is_greater_than(number, limit) that checks whether a number is `greater` than a specified `limit` and prints the corresponding message."
   ]
  },
  {
   "cell_type": "code",
   "execution_count": 16,
   "metadata": {},
   "outputs": [
    {
     "name": "stdout",
     "output_type": "stream",
     "text": [
      "Numeris 17 is Didesnis negu 4\n"
     ]
    }
   ],
   "source": [
    "# your code here\n",
    "def is_greater_than(number, limit):\n",
    "    resultatas = \"Didesnis\" if number > limit else \"Mazesnis\"\n",
    "    print(f\"Numeris {number} is {resultatas} negu {limit}\")\n",
    "\n",
    "is_greater_than(17, 4)"
   ]
  }
 ],
 "metadata": {
  "kernelspec": {
   "display_name": "Python 3",
   "language": "python",
   "name": "python3"
  },
  "language_info": {
   "codemirror_mode": {
    "name": "ipython",
    "version": 3
   },
   "file_extension": ".py",
   "mimetype": "text/x-python",
   "name": "python",
   "nbconvert_exporter": "python",
   "pygments_lexer": "ipython3",
   "version": "3.12.1"
  },
  "orig_nbformat": 4
 },
 "nbformat": 4,
 "nbformat_minor": 2
}
