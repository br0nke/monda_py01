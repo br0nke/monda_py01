{
 "cells": [
  {
   "cell_type": "markdown",
   "metadata": {},
   "source": [
    "# Function with Return Value\n",
    "\n",
    "A function with a return value is a function that processes a specific input and provides a result as output. The returned value can be of any type, such as a number, string, list, or even another object. Returning a value from a function is necessary when you want to use the processed data in other parts of your program.\n",
    "\n",
    "A function with a return value is defined using the `return` statement. The value to be returned is specified immediately after the `return` keyword. If a function has more than one return value, they can be returned as a tuple or a list.\n",
    "\n",
    "Example 1:"
   ]
  },
  {
   "cell_type": "code",
   "execution_count": null,
   "metadata": {},
   "outputs": [],
   "source": [
    "def square(x):\n",
    "    return x ** 2"
   ]
  },
  {
   "cell_type": "markdown",
   "metadata": {},
   "source": [
    "In this function, it takes a number `x` as an argument, calculates its square, and returns the result.\n",
    "\n",
    "You can call this function and get its return value like this:"
   ]
  },
  {
   "cell_type": "code",
   "execution_count": null,
   "metadata": {},
   "outputs": [],
   "source": [
    "result = square(5)\n",
    "print(result)  # Output: 25"
   ]
  },
  {
   "cell_type": "markdown",
   "metadata": {},
   "source": [
    "Here, the `square` function is called with the argument 5, and its returned value (25) is assigned to the variable `result`, which is later printed using the print function.\n",
    "\n",
    "Example 2:"
   ]
  },
  {
   "cell_type": "code",
   "execution_count": null,
   "metadata": {},
   "outputs": [],
   "source": [
    "def add(x, y):\n",
    "    result = x + y\n",
    "    return result"
   ]
  },
  {
   "cell_type": "markdown",
   "metadata": {},
   "source": [
    "This function, `add`, takes two arguments (`x` and `y`), adds them together, and returns the sum using the `return` statement.\n",
    "\n",
    "You can use it like this:"
   ]
  },
  {
   "cell_type": "code",
   "execution_count": null,
   "metadata": {},
   "outputs": [],
   "source": [
    "answer = add(10, 2)\n",
    "print(answer)  # Output: 12"
   ]
  },
  {
   "cell_type": "markdown",
   "metadata": {},
   "source": [
    "In this case, the add function is called with the arguments 10 and 2, and the result (12) is printed."
   ]
  },
  {
   "cell_type": "markdown",
   "metadata": {},
   "source": [
    "# `Quick Assignment 1: Calculate Square`\n",
    "\n",
    "1. Write a `function calculate_square(number)` that takes a number as input and returns its square. Then, call the function and print the result."
   ]
  },
  {
   "cell_type": "code",
   "execution_count": 3,
   "metadata": {},
   "outputs": [
    {
     "data": {
      "text/plain": [
       "25"
      ]
     },
     "execution_count": 3,
     "metadata": {},
     "output_type": "execute_result"
    }
   ],
   "source": [
    "# Your code here\n",
    "def calculate_square(number):\n",
    "    return (number ** 2)\n",
    "\n",
    "calculate_square(5)"
   ]
  },
  {
   "cell_type": "markdown",
   "metadata": {},
   "source": [
    "# Returning Multiple Values as a Tuple or List\n",
    "\n",
    "If you need to return multiple values from a function, you can pack them into a tuple or a list. Here's an example using a tuple:"
   ]
  },
  {
   "cell_type": "code",
   "execution_count": null,
   "metadata": {},
   "outputs": [],
   "source": [
    "def sum_and_product(a, b):\n",
    "    summation = a + b\n",
    "    product = a * b\n",
    "    return (summation, product)"
   ]
  },
  {
   "cell_type": "markdown",
   "metadata": {},
   "source": [
    "You can call this function and unpack the returned values like this:"
   ]
  },
  {
   "cell_type": "code",
   "execution_count": null,
   "metadata": {},
   "outputs": [],
   "source": [
    "result = sum_and_product(2, 3)\n",
    "print(result)  # Output: (5, 6)\n",
    "\n",
    "sum_result, product_result = sum_and_product(2, 3)\n",
    "print(sum_result)     # Output: 5\n",
    "print(product_result) # Output: 6"
   ]
  },
  {
   "cell_type": "markdown",
   "metadata": {},
   "source": [
    "In the first call, the function returns a tuple `(5, 6)`, which is assigned to the variable `result`. In the second call, the values are unpacked into separate variables `sum_result` and `product_result`."
   ]
  },
  {
   "cell_type": "markdown",
   "metadata": {},
   "source": [
    "# `Quick Assignment 2: Calculate Sum`\n",
    "\n",
    "1. Create a function `calculate_sum(a, b)` that accepts two numbers as arguments, adds them, and returns the sum. Then, call the function and display the result."
   ]
  },
  {
   "cell_type": "code",
   "execution_count": null,
   "metadata": {},
   "outputs": [],
   "source": [
    "# Your code here"
   ]
  },
  {
   "cell_type": "markdown",
   "metadata": {},
   "source": [
    "You can also return a list:"
   ]
  },
  {
   "cell_type": "code",
   "execution_count": null,
   "metadata": {},
   "outputs": [],
   "source": [
    "def positive_and_negative_numbers(numbers):\n",
    "    positive = []\n",
    "    negative = []\n",
    "    for number in numbers:\n",
    "        if number > 0:\n",
    "            positive.append(number)\n",
    "        else:\n",
    "            negative.append(number)\n",
    "    return [positive, negative]"
   ]
  },
  {
   "cell_type": "markdown",
   "metadata": {},
   "source": [
    "In this example, the function `positive_and_negative_numbers` returns two lists: `positive` and `negative`, which contain positive and negative numbers from the input list.\n",
    "\n",
    "Here's how you can use it:"
   ]
  },
  {
   "cell_type": "code",
   "execution_count": null,
   "metadata": {},
   "outputs": [],
   "source": [
    "numbers = [2, -4, 5, -1, -2]\n",
    "result = positive_and_negative_numbers(numbers)\n",
    "print(result)  # Output: [[2, 5], [-4, -1, -2]]"
   ]
  },
  {
   "cell_type": "markdown",
   "metadata": {},
   "source": [
    "In this case, the function returns a list containing two sublists - one with positive numbers and the other with negative numbers."
   ]
  },
  {
   "cell_type": "markdown",
   "metadata": {},
   "source": [
    "# `Quick Assignment 3: Separate Positive and Negative Numbers`\n",
    "\n",
    "1. Write a function `separate_positive_and_negative(numbers)` that takes a `list` of numbers, separates the `positive` and `negative` numbers.\n",
    "1. `Return` them as two lists. \n",
    "1. `Call` the function and print the result."
   ]
  },
  {
   "cell_type": "code",
   "execution_count": null,
   "metadata": {},
   "outputs": [],
   "source": [
    "# Your code here"
   ]
  },
  {
   "cell_type": "markdown",
   "metadata": {},
   "source": [
    "# `Bonus Assignment: Calculate Factorial`\n",
    "\n",
    "Write a function `calculate_factorial(n)` that calculates and returns the factorial of a given non-negative integer `n`. The factorial of a number `n` is the product of all positive integers from `1` to `n`.\n",
    "\n",
    "For example, the factorial of `5` (denoted as `5!`) is calculated as `5 x 4 x 3 x 2 x 1 = 120`.\n",
    "\n",
    "Your function should handle the case where n is equal to 0 and return 1 as the factorial of `0`.\n",
    "\n",
    "After defining the function, call it to calculate and print the factorials of the following numbers: `0, 1, 2, 3, 4`, and `5`.\n",
    "\n",
    "Here's a starting point for the function and the calls:"
   ]
  },
  {
   "cell_type": "code",
   "execution_count": null,
   "metadata": {},
   "outputs": [],
   "source": [
    "# Function definition\n",
    "def calculate_factorial(n):\n",
    "    # Your code here\n",
    "\n",
    "# Call the function and print factorials\n",
    "print(\"Factorial of 0:\", calculate_factorial(0))  # Expected output: 1\n",
    "print(\"Factorial of 1:\", calculate_factorial(1))  # Expected output: 1\n",
    "print(\"Factorial of 2:\", calculate_factorial(2))  # Expected output: 2\n",
    "print(\"Factorial of 3:\", calculate_factorial(3))  # Expected output: 6\n",
    "print(\"Factorial of 4:\", calculate_factorial(4))  # Expected output: 24\n",
    "print(\"Factorial of 5:\", calculate_factorial(5))  # Expected output: 120"
   ]
  },
  {
   "cell_type": "markdown",
   "metadata": {},
   "source": [
    "Your task is to complete the `calculate_factorial` function so that it correctly calculates the factorial of the given number `n`."
   ]
  }
 ],
 "metadata": {
  "kernelspec": {
   "display_name": "Python 3",
   "language": "python",
   "name": "python3"
  },
  "language_info": {
   "codemirror_mode": {
    "name": "ipython",
    "version": 3
   },
   "file_extension": ".py",
   "mimetype": "text/x-python",
   "name": "python",
   "nbconvert_exporter": "python",
   "pygments_lexer": "ipython3",
   "version": "3.12.1"
  },
  "orig_nbformat": 4
 },
 "nbformat": 4,
 "nbformat_minor": 2
}
