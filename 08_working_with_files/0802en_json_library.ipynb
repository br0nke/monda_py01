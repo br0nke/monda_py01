{
 "cells": [
  {
   "cell_type": "markdown",
   "metadata": {},
   "source": [
    "# JSON Library\n",
    "\n",
    "JSON (JavaScript Object Notation) is a data format used for exchanging data between a server and a client or between two different systems. JSON can be easily converted into objects in many programming languages, including Python.\n",
    "\n",
    "JSON format uses keys and values, where keys are strings, and values can be strings, numbers, Boolean values (true or false), arrays, or other JSON object structures.\n",
    "\n",
    "Here's an example of a JSON object:\n",
    "\n",
    "```json\n",
    "{\n",
    "  \"name\": \"Jonas\",\n",
    "  \"age\": 30,\n",
    "  \"is_student\": false,\n",
    "  \"hobbies\": [\"books\", \"movies\", \"travel\"],\n",
    "  \"address\": {\n",
    "    \"street\": \"Vytauto St. 10\",\n",
    "    \"city\": \"Vilnius\",\n",
    "    \"country\": \"Lithuania\"\n",
    "  }\n",
    "}\n",
    "```"
   ]
  },
  {
   "cell_type": "markdown",
   "metadata": {},
   "source": [
    "In Python, you can work with JSON data using the `json` module. This module allows you to convert Python objects such as dictionaries, lists, strings, numbers, and Boolean values into JSON format and vice versa.\n",
    "\n",
    "The main functions of the json module are:\n",
    "\n",
    "1. `json.dump()` and `json.dumps()`: Converts a Python object to JSON format.\n",
    "1. `json.load()` and `json.loads()`: Converts JSON data to a Python object."
   ]
  },
  {
   "cell_type": "markdown",
   "metadata": {},
   "source": [
    "### json.dump()\n",
    "\n",
    "This function converts a Python object to JSON format and writes it to a file. It takes two main arguments: the Python object you want to convert and the file object where you want to write the JSON data. It's commonly used with the `open()` function to open a file for writing."
   ]
  },
  {
   "cell_type": "code",
   "execution_count": 1,
   "metadata": {},
   "outputs": [],
   "source": [
    "import json\n",
    "\n",
    "data = {\"name\": \"Jonas\", \"age\": 30}\n",
    "\n",
    "with open(\"data.json\", \"w\", encoding=\"utf-8\") as f:\n",
    "    json.dump(data, f)\n"
   ]
  },
  {
   "cell_type": "markdown",
   "metadata": {},
   "source": [
    "### json.dumps()\n",
    "This function converts a Python object to JSON format and returns a JSON string. It takes one argument: the Python object you want to convert."
   ]
  },
  {
   "cell_type": "code",
   "execution_count": 2,
   "metadata": {},
   "outputs": [
    {
     "name": "stdout",
     "output_type": "stream",
     "text": [
      "{\"name\": \"Jonas\", \"age\": 30}\n"
     ]
    }
   ],
   "source": [
    "import json\n",
    "\n",
    "data = {\"name\": \"Jonas\", \"age\": 30}\n",
    "\n",
    "json_string = json.dumps(data)\n",
    "print(json_string)  # `{\"name\": \"Jonas\", \"age\": 30}`\n"
   ]
  },
  {
   "cell_type": "markdown",
   "metadata": {},
   "source": [
    "### json.load()\n",
    "This function converts JSON data from a file into a Python object. It takes one argument: the file object from which you want to read the JSON data. It's typically used with the `open()` function to open a file for reading."
   ]
  },
  {
   "cell_type": "code",
   "execution_count": 3,
   "metadata": {},
   "outputs": [
    {
     "name": "stdout",
     "output_type": "stream",
     "text": [
      "{'name': 'Jonas', 'age': 30}\n"
     ]
    }
   ],
   "source": [
    "import json\n",
    "\n",
    "with open(\"data.json\", \"r\", encoding=\"utf-8\") as f:\n",
    "    data = json.load(f)\n",
    "\n",
    "print(data)  # `{\"name\": \"Jonas\", \"age\": 30}`\n"
   ]
  },
  {
   "cell_type": "markdown",
   "metadata": {},
   "source": [
    "### json.loads()\n",
    "This function converts a JSON string into a Python object. It takes one argument: the JSON string you want to convert into a Python object."
   ]
  },
  {
   "cell_type": "code",
   "execution_count": null,
   "metadata": {},
   "outputs": [],
   "source": [
    "import json\n",
    "\n",
    "json_string = '{\"name\": \"Jonas\", \"age\": 30}'\n",
    "\n",
    "data = json.loads(json_string)\n",
    "print(data)  # `{\"name\": \"Jonas\", \"age\": 30}`\n"
   ]
  },
  {
   "cell_type": "markdown",
   "metadata": {},
   "source": [
    "# `Assignment`\n",
    "Improve your refrigerator program developed during the previous course by using JSON:\n",
    "\n",
    "1. When the program starts, if it finds a refrigerator JSON file, read its contents and fill the refrigerator with its contents.\n",
    "1. When the program closes, save the contents of the refrigerator to a JSON file."
   ]
  },
  {
   "cell_type": "code",
   "execution_count": null,
   "metadata": {},
   "outputs": [],
   "source": []
  }
 ],
 "metadata": {
  "kernelspec": {
   "display_name": "Python 3",
   "language": "python",
   "name": "python3"
  },
  "language_info": {
   "codemirror_mode": {
    "name": "ipython",
    "version": 3
   },
   "file_extension": ".py",
   "mimetype": "text/x-python",
   "name": "python",
   "nbconvert_exporter": "python",
   "pygments_lexer": "ipython3",
   "version": "3.12.1"
  }
 },
 "nbformat": 4,
 "nbformat_minor": 2
}
